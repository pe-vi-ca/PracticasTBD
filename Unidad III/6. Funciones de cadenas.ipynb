{
    "metadata": {
        "kernelspec": {
            "name": "SQL",
            "display_name": "SQL",
            "language": "sql"
        },
        "language_info": {
            "name": "sql",
            "version": ""
        }
    },
    "nbformat_minor": 2,
    "nbformat": 4,
    "cells": [
        {
            "cell_type": "markdown",
            "source": [
                "# Funciones para manejo de Strings #\n",
                "<table>\n",
                "<tr><td>ASCII<td>\tCHAR\t<td>CHARINDEX\n",
                "<tr><td>CONCAT\t<td>CONCAT_WS\t<td>DIFFERENCE\n",
                "<tr><td>FORMAT\t<td>LEFT\t<td>LEN\n",
                "<tr><td>LOWER\t<td>LTRIM\t<td>NCHAR\n",
                "<tr><td>PATINDEX\t<td>QUOTENAME\t<td>REPLACE\n",
                "<tr><td>REPLICATE\t<td>REVERSE\t<td>RIGHT\n",
                "<tr><td>RTRIM\t<td>SOUNDEX\t<td>SPACE\n",
                "<tr><td>STR\t<td>STRING_AGG\t<td>STRING_ESCAPE\n",
                "<tr><td>STRING_SPLIT<td>\tSTUFF\t<td>SUBSTRING\n",
                "<tr><td>TRANSLATE\t<td>TRIM<td>\tUNICODE\n",
                "<tr><td>UPPER\n",
                "</table>\n",
                "\n",
                "## 1 ## \n",
                "Obtenga el nombre completo de los empleados en la forma *'Lastname, Firstname'*"
            ],
            "metadata": {
                "azdata_cell_guid": "8ee912df-8fd7-48ef-866e-958e1902e38c"
            }
        },
        {
            "cell_type": "code",
            "source": [
                "use northwind\n",
                "DECLARE @mesactividad \n",
                "    as TABLE ( \n",
                "        mes int, \n",
                "        actividad varchar(40) \n",
                "        )\n",
                "\n",
                "DECLARE @inicialpersona \n",
                "    as TABLE ( \n",
                "        inicial CHAR(1), \n",
                "        persona varchar(40) \n",
                "        )\n",
                "\n",
                "INSERT INTO  @mesactividad\n",
                "    VALUES\n",
                "        (1, 'Jugando maincra con'),\n",
                "        (2, 'Explorando el Amazonas con'),\n",
                "        (3, 'Bañando los perros de'),\n",
                "        (4, 'Perseguido por'),\n",
                "        (5, 'En la cárcel por matar a'),\n",
                "        (6, 'Pintando la casa de'),\n",
                "        (7, 'Contando chistes con'),\n",
                "        (8, 'Enseñando Java a'),\n",
                "        (9, 'En un yate con'),\n",
                "        (10, 'En el hospital cuidando a'), \n",
                "        (11, 'Comiendo con'),\n",
                "        (12, 'Platicando con')\n",
                "\n",
                "insert into @inicialpersona\n",
                "    VALUES\n",
                "        ('a', 'CR7'),\n",
                "        ('b', 'Shakira'),\n",
                "        ('c', 'AuronPlay'),\n",
                "        ('d', 'Scarlett Johanson'),\n",
                "        ('e', 'Jessica Jones'),\n",
                "        ('f', 'Lagertha'),\n",
                "        ('g', 'Yuya'), \n",
                "        ('h', 'Sheldon Cooper'),\n",
                "        ('i', 'Michael Jordan'),\n",
                "        ('j', 'Carlos Slim'),\n",
                "        ('k', 'Donald Trump'),\n",
                "        ('l', 'Neil deGrasse Tyson'),\n",
                "        ('m', 'Indiana Jones'),\n",
                "        ('n', 'Javier Santaolalla'), \n",
                "        ('o', 'Henry Cavill'), \n",
                "        ('p', 'Beyoncé'),\n",
                "        ('q', 'Vinton Cerf'),\n",
                "        ('r', 'Robert Downey Jr.'),\n",
                "        ('s', 'Hulk'),\n",
                "        ('t', 'la india Yuriria'),\n",
                "        ('u', 'Bárbara de Regil'),\n",
                "        ('v', 'Tokio'),\n",
                "        ('w', 'Barney Stinson'),\n",
                "        ('x', 'Chumel Torres'),\n",
                "        ('y', 'Tulio Treviño'),\n",
                "        ('z', 'Goku')\n",
                ""
            ],
            "metadata": {
                "azdata_cell_guid": "52412e11-43cc-42d3-8e92-a3f212e5bc93"
            },
            "outputs": [
                {
                    "output_type": "display_data",
                    "data": {
                        "text/html": "(12 rows affected)"
                    },
                    "metadata": {}
                },
                {
                    "output_type": "display_data",
                    "data": {
                        "text/html": "(26 rows affected)"
                    },
                    "metadata": {}
                },
                {
                    "output_type": "display_data",
                    "data": {
                        "text/html": "Total execution time: 00:00:00.061"
                    },
                    "metadata": {}
                }
            ],
            "execution_count": 1
        }
    ]
}