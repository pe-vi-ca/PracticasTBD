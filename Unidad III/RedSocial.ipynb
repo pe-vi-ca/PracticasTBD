{
    "metadata": {
        "kernelspec": {
            "name": "SQL",
            "display_name": "SQL",
            "language": "sql"
        },
        "language_info": {
            "name": "sql",
            "version": ""
        }
    },
    "nbformat_minor": 2,
    "nbformat": 4,
    "cells": [
        {
            "cell_type": "markdown",
            "source": [
                "# Red Social #\n",
                ""
            ],
            "metadata": {
                "azdata_cell_guid": "29d4b3d2-7cd2-4302-a9cf-3a1ad6fd0c26"
            }
        },
        {
            "cell_type": "code",
            "source": [
                "--Como prerequisito crear la BD Social\n",
                "use master\n",
                "\n",
                "IF EXISTS  \n",
                "    ( \n",
                "        SELECT name FROM master.dbo.sysdatabases  \n",
                "        WHERE name = 'social_AER45Ty' \n",
                "    ) \n",
                "    DROP DATABASE social_AER45Ty \n",
                "GO\n",
                "CREATE DATABASE social_AER45Ty    \n",
                "GO \n",
                "use social_AER45Ty\n",
                "GO\n",
                "\n",
                "create table Highschooler(ID int, name char(20), grade int);\n",
                "create table Friend(ID1 int, ID2 int);\n",
                "create table Likes(ID1 int, ID2 int);\n",
                "go\n",
                "\n",
                "/* Populate the tables with our data */\n",
                "insert into Highschooler values (1510, 'Jordan', 9);\n",
                "insert into Highschooler values (1689, 'Gabriel', 9);\n",
                "insert into Highschooler values (1381, 'Tiffany', 9);\n",
                "insert into Highschooler values (1709, 'Cassandra', 9);\n",
                "insert into Highschooler values (1101, 'Haley', 10);\n",
                "insert into Highschooler values (1782, 'Andrew', 10);\n",
                "insert into Highschooler values (1468, 'Kris', 10);\n",
                "insert into Highschooler values (1641, 'Brittany', 10);\n",
                "insert into Highschooler values (1247, 'Alexis', 11);\n",
                "insert into Highschooler values (1316, 'Austin', 11);\n",
                "insert into Highschooler values (1911, 'Gabriel', 11);\n",
                "insert into Highschooler values (1501, 'Jessica', 11);\n",
                "insert into Highschooler values (1304, 'Jordan', 12);\n",
                "insert into Highschooler values (1025, 'John', 12);\n",
                "insert into Highschooler values (1934, 'Kyle', 12);\n",
                "insert into Highschooler values (1661, 'Logan', 12);\n",
                "\n",
                "insert into Friend values (1510, 1381);\n",
                "insert into Friend values (1510, 1689);\n",
                "insert into Friend values (1689, 1709);\n",
                "insert into Friend values (1381, 1247);\n",
                "insert into Friend values (1709, 1247);\n",
                "insert into Friend values (1689, 1782);\n",
                "insert into Friend values (1782, 1468);\n",
                "insert into Friend values (1782, 1316);\n",
                "insert into Friend values (1782, 1304);\n",
                "insert into Friend values (1468, 1101);\n",
                "insert into Friend values (1468, 1641);\n",
                "insert into Friend values (1101, 1641);\n",
                "insert into Friend values (1247, 1911);\n",
                "insert into Friend values (1247, 1501);\n",
                "insert into Friend values (1911, 1501);\n",
                "insert into Friend values (1501, 1934);\n",
                "insert into Friend values (1316, 1934);\n",
                "insert into Friend values (1934, 1304);\n",
                "insert into Friend values (1304, 1661);\n",
                "insert into Friend values (1661, 1025);\n",
                "insert into Friend select ID2, ID1 from Friend;\n",
                "\n",
                "insert into Likes values(1689, 1709);\n",
                "insert into Likes values(1709, 1689);\n",
                "insert into Likes values(1782, 1709);\n",
                "insert into Likes values(1911, 1247);\n",
                "insert into Likes values(1247, 1468);\n",
                "insert into Likes values(1641, 1468);\n",
                "insert into Likes values(1316, 1304);\n",
                "insert into Likes values(1501, 1934);\n",
                "insert into Likes values(1934, 1501);\n",
                "insert into Likes values(1025, 1101);"
            ],
            "metadata": {
                "azdata_cell_guid": "c5ff02c5-9943-4c87-ba83-033f2f478bc2",
                "tags": [
                    "hide_input"
                ]
            },
            "outputs": [],
            "execution_count": 1
        },
        {
            "cell_type": "markdown",
            "source": [
                "## SQL Social-Network Query Exercises ##\n",
                "\n",
                "Students at your hometown high school have decided to organize their social network using databases. So far, they have collected information about sixteen students in four grades, 9-12. Here's the schema: \n",
                "\n",
                "Highschooler ( ID, name, grade )\n",
                "English: There is a high school student with unique ID and a given first name in a certain grade.\n",
                "\n",
                "Friend ( ID1, ID2 )\n",
                "English: The student with ID1 is friends with the student with ID2. Friendship is mutual, so if (123, 456) is in the Friend table, so is (456, 123). \n",
                "\n",
                "Likes ( ID1, ID2 )\n",
                "English: The student with ID1 likes the student with ID2. Liking someone is not necessarily mutual, so if (123, 456) is in the Likes table, there is no guarantee that (456, 123) is also present.\n",
                "\n",
                "For your convenience, here is a graph showing the various connections between the students in our database. 9th graders are blue, 10th graders are green, 11th graders are yellow, and 12th graders are purple. Undirected black edges indicate friendships, and directed red edges indicate that one student likes another student.\n",
                "\n",
                "<img src='./social.png'> [Red Social](social.png)\n",
                ""
            ],
            "metadata": {
                "azdata_cell_guid": "f0331c60-8340-434e-a166-adee4bcade3f"
            }
        },
        {
            "cell_type": "markdown",
            "source": [
                "# Basic SELECT, Table Variables, Set Operators #\n",
                "\n",
                "\n",
                "## 1.  Friends of Gabes ## \n",
                "Find the names of all students who are friends with someone named Gabriel.\n",
                "\n",
                ""
            ],
            "metadata": {
                "azdata_cell_guid": "f58d1221-4c4e-4b2f-85a4-4067364aee4d"
            }
        },
        {
            "cell_type": "code",
            "source": [
                "select h1.name, h2.name \n",
                "  from friend \n",
                "  inner join highschooler h1 on friend.id1=h1.id \n",
                "  inner join highschooler h2 on friend.id2=h2.id\n",
                "where h1.name = 'Gabriel'"
            ],
            "metadata": {
                "azdata_cell_guid": "7f1f5042-282e-44e2-a7c2-bd79f7f4eda9"
            },
            "outputs": [
                {
                    "output_type": "display_data",
                    "data": {
                        "text/html": "(5 rows affected)"
                    },
                    "metadata": {}
                },
                {
                    "output_type": "display_data",
                    "data": {
                        "text/html": "Total execution time: 00:00:00.924"
                    },
                    "metadata": {}
                },
                {
                    "output_type": "execute_result",
                    "metadata": {},
                    "execution_count": 1,
                    "data": {
                        "application/vnd.dataresource+json": {
                            "schema": {
                                "fields": [
                                    {
                                        "name": "name"
                                    },
                                    {
                                        "name": "name"
                                    }
                                ]
                            },
                            "data": [
                                {
                                    "0": "Gabriel             ",
                                    "1": "Jordan              "
                                },
                                {
                                    "0": "Gabriel             ",
                                    "1": "Cassandra           "
                                },
                                {
                                    "0": "Gabriel             ",
                                    "1": "Andrew              "
                                },
                                {
                                    "0": "Gabriel             ",
                                    "1": "Alexis              "
                                },
                                {
                                    "0": "Gabriel             ",
                                    "1": "Jessica             "
                                }
                            ]
                        },
                        "text/html": "<table><tr><th>name</th><th>name</th></tr><tr><td>Gabriel             </td><td>Jordan              </td></tr><tr><td>Gabriel             </td><td>Cassandra           </td></tr><tr><td>Gabriel             </td><td>Andrew              </td></tr><tr><td>Gabriel             </td><td>Alexis              </td></tr><tr><td>Gabriel             </td><td>Jessica             </td></tr></table>"
                    }
                }
            ],
            "execution_count": 1
        },
        {
            "cell_type": "markdown",
            "source": [
                "## 2.  Like, scandalous! ##\n",
                "For every student who likes someone 2 or more grades below their own grade, return that student's name and grade, and the name and grade of the student they like."
            ],
            "metadata": {
                "azdata_cell_guid": "1254851e-e197-4f4c-a40f-444618390b1d"
            }
        },
        {
            "cell_type": "code",
            "source": [
                ""
            ],
            "metadata": {
                "azdata_cell_guid": "993662d1-97b8-4544-8b63-f5e5bbb3992e"
            },
            "outputs": [],
            "execution_count": 0
        },
        {
            "cell_type": "markdown",
            "source": [
                "## 3.  Should totally be dating##\n",
                "For every pair of students who both like each other, return the name and grade of both students. Include each pair only once.\n",
                ""
            ],
            "metadata": {
                "azdata_cell_guid": "483ac02d-cb41-459b-927e-d92de10e4e54"
            }
        },
        {
            "cell_type": "code",
            "source": [
                ""
            ],
            "metadata": {
                "azdata_cell_guid": "cd26a7a1-a13c-4d57-a4ad-8e595f8a1722"
            },
            "outputs": [],
            "execution_count": 0
        },
        {
            "cell_type": "markdown",
            "source": [
                "## 4.  Alas ## \n",
                "For every situation where student A likes student B, but student B likes a different student C, return the names and grades of A, B, and C.\n",
                ""
            ],
            "metadata": {
                "azdata_cell_guid": "4cdbd4fa-0fe1-4e04-88e2-d1db88c67c9b"
            }
        },
        {
            "cell_type": "code",
            "source": [
                ""
            ],
            "metadata": {
                "azdata_cell_guid": "160edb37-7a0c-4abb-b038-acf84ab7f423"
            },
            "outputs": [],
            "execution_count": 0
        },
        {
            "cell_type": "markdown",
            "source": [
                "## 5.  Need more intel##\n",
                "Find all students who do not appear in the Likes table (as a student who likes or is liked) and return their names and grades. Sort by grade, then by name within each grade. (Hint: Without subqueries, you will need to use the EXCEPT operator.)\n",
                "\n",
                ""
            ],
            "metadata": {
                "azdata_cell_guid": "a38e6f37-9ed7-40b6-8813-38be54f5d0b0"
            }
        },
        {
            "cell_type": "code",
            "source": [
                ""
            ],
            "metadata": {
                "azdata_cell_guid": "4fee22a2-bf27-4d47-bac6-f48615fb4333"
            },
            "outputs": [],
            "execution_count": 0
        },
        {
            "cell_type": "markdown",
            "source": [
                "# Subqueries in WHERE, FROM, SELECT #\n",
                "\n",
                "## 6.  Have a chance## \n",
                "For every situation where student A likes student B, but we have no information about whom B likes (that is, B does not appear as an ID1 in the Likes table), return A and B's names and grades."
            ],
            "metadata": {
                "azdata_cell_guid": "5be4b932-eed5-4c67-bf5f-e6ceca5957af"
            }
        },
        {
            "cell_type": "code",
            "source": [
                ""
            ],
            "metadata": {
                "azdata_cell_guid": "d6779ea9-496b-474c-aed6-d742d6eef287"
            },
            "outputs": [],
            "execution_count": 0
        },
        {
            "cell_type": "markdown",
            "source": [
                "## 7.  Narrow-minded ##\n",
                "Find names and grades of students who only have friends in the same grade. Return the result sorted by grade, then by name within each grade.\n",
                ""
            ],
            "metadata": {
                "azdata_cell_guid": "3d630a87-eb3c-4621-aba6-b933112ef183"
            }
        },
        {
            "cell_type": "code",
            "source": [
                ""
            ],
            "metadata": {
                "azdata_cell_guid": "6d2208bf-28be-400f-ae66-354d264c2f76"
            },
            "outputs": [],
            "execution_count": 0
        },
        {
            "cell_type": "markdown",
            "source": [
                "## 8.  Broad-minded## \n",
                "Find names and grades of students who only have friends in different grades.\n",
                ""
            ],
            "metadata": {
                "azdata_cell_guid": "4ad1fbbf-8df0-4940-9351-81fd80ec0546"
            }
        },
        {
            "cell_type": "code",
            "source": [
                ""
            ],
            "metadata": {
                "azdata_cell_guid": "21ee5c10-5a6b-4b4f-a408-1f9e07d99b34"
            },
            "outputs": [],
            "execution_count": 0
        },
        {
            "cell_type": "markdown",
            "source": [
                "## 9.  Could you introduce me? ##\n",
                "For each student A who likes a student B where the two are not friends, find if they have a friend C in common. For all such trios, return the name and grade of A, B, and C.\n",
                "\n",
                ""
            ],
            "metadata": {
                "azdata_cell_guid": "76be04b1-41e3-4a99-97e9-4c9393e05c1f"
            }
        },
        {
            "cell_type": "code",
            "source": [
                ""
            ],
            "metadata": {
                "azdata_cell_guid": "eded0a33-bfdb-494b-9314-c1a306fa2c6f"
            },
            "outputs": [],
            "execution_count": 0
        },
        {
            "cell_type": "markdown",
            "source": [
                "# Aggregation #\n",
                "## 10.  Duplication## \n",
                "\n",
                "Find the difference between the number of students in the school and the number of different first names.\n",
                ""
            ],
            "metadata": {
                "azdata_cell_guid": "d37b2048-288f-49d4-84f0-f5cfcfd0ef87"
            }
        },
        {
            "cell_type": "code",
            "source": [
                ""
            ],
            "metadata": {
                "azdata_cell_guid": "f5f96f8e-5f2e-48d5-86be-35691fdf26e1"
            },
            "outputs": [],
            "execution_count": 0
        },
        {
            "cell_type": "markdown",
            "source": [
                "## 11.  Average affability## \n",
                "What is the average number of friends per student?\n",
                ""
            ],
            "metadata": {
                "azdata_cell_guid": "68e0ebf5-c7a5-461a-bad7-16a00914a99d"
            }
        },
        {
            "cell_type": "code",
            "source": [
                ""
            ],
            "metadata": {
                "azdata_cell_guid": "cb3a3ddb-f2c3-408a-8ea8-0e85e639b51e"
            },
            "outputs": [],
            "execution_count": 0
        },
        {
            "cell_type": "markdown",
            "source": [
                "## 12.  Social circle ## \n",
                "Find the number of students who are either friends with Cassandra or are friends of friends of Cassandra. Do not count Cassandra, even though technically she is a friend of a friend.\n",
                ""
            ],
            "metadata": {
                "azdata_cell_guid": "e072c519-b994-4517-9646-adce8b8f28ca"
            }
        },
        {
            "cell_type": "code",
            "source": [
                ""
            ],
            "metadata": {
                "azdata_cell_guid": "3c6d2917-bbf1-4bec-870d-a1ed7c9de2a7"
            },
            "outputs": [],
            "execution_count": 0
        },
        {
            "cell_type": "markdown",
            "source": [
                "## 13.  It must be their brains, not their looks##\n",
                "Find the name and grade of all students who are liked by more than one other student.\n",
                ""
            ],
            "metadata": {
                "azdata_cell_guid": "0fc395c0-a56e-438d-a945-f894d5b8e9c1"
            }
        },
        {
            "cell_type": "code",
            "source": [
                ""
            ],
            "metadata": {
                "azdata_cell_guid": "51a18945-908a-4110-833e-c98736481af5"
            },
            "outputs": [],
            "execution_count": 0
        },
        {
            "cell_type": "markdown",
            "source": [
                "## 14.  Most gregarious##\n",
                "Find the name and grade of the student(s) with the greatest number of friends.\n",
                "\n",
                ""
            ],
            "metadata": {
                "azdata_cell_guid": "0ede5af7-75cd-43b7-bdac-a344da1a399b"
            }
        },
        {
            "cell_type": "code",
            "source": [
                ""
            ],
            "metadata": {
                "azdata_cell_guid": "b140b42e-e4d7-4a58-8a84-b1ae21d04775"
            },
            "outputs": [],
            "execution_count": 0
        },
        {
            "cell_type": "markdown",
            "source": [
                "# Data Modification Statements#\n",
                "\n",
                "Each of the questions in this section (except the first) assumes the database is in the state after the modifications from the previous question. If you find you've made a mistake or want to restart, just reload the schema and data from scratch.\n",
                "\n",
                "## 15.  End of the school year## \n",
                "Increment the year of all students by 1, such that all 9th graders become 10th graders, all 10th graders become 11th graders, and so on. To check your modification, find the names of all students who are in a grade higher than 12 (we'll deal with them later).\n",
                ""
            ],
            "metadata": {
                "azdata_cell_guid": "eaaec46e-1011-4778-a53a-9c3bb12207d6"
            }
        },
        {
            "cell_type": "code",
            "source": [
                ""
            ],
            "metadata": {
                "azdata_cell_guid": "72f294b1-15b3-4854-9f18-9798cba2add6"
            },
            "outputs": [],
            "execution_count": 0
        },
        {
            "cell_type": "markdown",
            "source": [
                "## 16.  Graduating seniors## \n",
                "After the previous update, some students ended up in 13th grade. They're actually graduating, so remove all tuples in Highschooler with a grade higher than 12. To check your modification, find the total number of students remaining in the Highschooler table.\n",
                ""
            ],
            "metadata": {
                "azdata_cell_guid": "3c4de1fc-bfe8-47c1-8ae6-4457527fab60"
            }
        },
        {
            "cell_type": "code",
            "source": [
                ""
            ],
            "metadata": {
                "azdata_cell_guid": "7f7b78ee-fc1c-41b4-a929-00298b864ae8"
            },
            "outputs": [],
            "execution_count": 0
        },
        {
            "cell_type": "markdown",
            "source": [
                "## 17.  Now clean up this mess## \n",
                "While friendships may continue after graduation, we can't model them for students no longer in our database. Remove all tuples in Friend and all tuples in Likes that refer to nonexistent students. (This will require two separate commands.) To check your modification, find the names of all students whom Austin likes or who are friends with Austin.\n",
                ""
            ],
            "metadata": {
                "azdata_cell_guid": "80aa84c3-6541-4f2e-9d6f-b3a6bf160a6b"
            }
        },
        {
            "cell_type": "code",
            "source": [
                ""
            ],
            "metadata": {
                "azdata_cell_guid": "5345e26f-a941-405f-98b3-ead0468d8640"
            },
            "outputs": [],
            "execution_count": 0
        },
        {
            "cell_type": "markdown",
            "source": [
                "## 18. Summertime ## \n",
                "Now that they're on vacation, our students have more time to spend with one another. As a result, their social circles have expanded: For all cases where A is friends with B, and B is friends with C, add a new friendship for the pair A and C. (Do not add duplicate friendships, friendships that already exist, or friendships with oneself.) To check your modification, for the now 10th-grader Jordan, return the names of all her friends. \n",
                "\n",
                ""
            ],
            "metadata": {
                "azdata_cell_guid": "2b0bb2e5-e04c-4431-b24e-70ebab2d8c97"
            }
        },
        {
            "cell_type": "code",
            "source": [
                ""
            ],
            "metadata": {
                "azdata_cell_guid": "8768ce11-1475-4bb9-a85d-1cd702c8679f"
            },
            "outputs": [],
            "execution_count": 0
        }
    ]
}