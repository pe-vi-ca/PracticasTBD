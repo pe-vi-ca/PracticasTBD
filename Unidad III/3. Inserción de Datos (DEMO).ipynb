{
    "metadata": {
        "kernelspec": {
            "name": "SQL",
            "display_name": "SQL",
            "language": "sql"
        },
        "language_info": {
            "name": "sql",
            "version": ""
        }
    },
    "nbformat_minor": 2,
    "nbformat": 4,
    "cells": [
        {
            "cell_type": "markdown",
            "source": [
                "\n",
                "# Inserción de datos (DEMO)#\n",
                "\n",
                "## Paso 1: Es recomendable siempre incluir la lista de columnas\n",
                "\n",
                ""
            ],
            "metadata": {
                "azdata_cell_guid": "eb9b1bca-1417-4355-9c77-6dc049aa9a07"
            }
        },
        {
            "cell_type": "code",
            "source": [
                "--Trabajemos con la de Pruebas\n",
                "use master\n",
                "\n",
                "IF EXISTS  \n",
                "    ( \n",
                "        SELECT name FROM master.dbo.sysdatabases  \n",
                "        WHERE name = 'Pruebas' \n",
                "    ) \n",
                "    DROP DATABASE Pruebas \n",
                "GO \n",
                "    \n",
                "CREATE DATABASE Pruebas \n",
                "GO \n",
                "use Pruebas"
            ],
            "metadata": {
                "azdata_cell_guid": "2f609fde-7eeb-4cac-839b-40a92d7ccdc2",
                "tags": [
                    "hide_input"
                ]
            },
            "outputs": [],
            "execution_count": 1
        },
        {
            "cell_type": "markdown",
            "source": [
                "Sea la tabla siguiente"
            ],
            "metadata": {
                "azdata_cell_guid": "4190a2e5-4921-4f05-bff0-b675e0e91929"
            }
        },
        {
            "cell_type": "code",
            "source": [
                "create TABLE T1\n",
                "(\n",
                "    id int not NULL,\n",
                "    c CHAR(1)\n",
                ")\n",
                ""
            ],
            "metadata": {
                "azdata_cell_guid": "143511dc-78ea-43ef-91c2-d4f11622b07d"
            },
            "outputs": [],
            "execution_count": 4
        },
        {
            "cell_type": "markdown",
            "source": [
                "Podemos desde un programa ejecutar la siguiente sentencia de inserción"
            ],
            "metadata": {
                "azdata_cell_guid": "55ccb535-b686-4be4-aa82-4747c3dda09d"
            }
        },
        {
            "cell_type": "code",
            "source": [
                "insert into t1 values (1, 'A')"
            ],
            "metadata": {
                "azdata_cell_guid": "2aad00aa-c7ca-45ac-95dd-030371e22484"
            },
            "outputs": [],
            "execution_count": 5
        },
        {
            "cell_type": "markdown",
            "source": [
                "Pero que pasa si pasado el tiempo se modifica la tabla agregando una columna"
            ],
            "metadata": {
                "azdata_cell_guid": "bc789845-41ca-4655-96f2-756be9b41da8"
            }
        },
        {
            "cell_type": "code",
            "source": [
                "    ALTER TABLE t1\n",
                "        add s int"
            ],
            "metadata": {
                "azdata_cell_guid": "36c805ed-330c-4040-a165-3dbff68e19f2"
            },
            "outputs": [],
            "execution_count": 6
        },
        {
            "cell_type": "markdown",
            "source": [
                "Y llegamos a la misma línea en el programa en cuestión"
            ],
            "metadata": {
                "azdata_cell_guid": "e0a733fc-dae9-4199-95b3-2ce7fbb27b85"
            }
        },
        {
            "cell_type": "code",
            "source": [
                "insert into t1 values (2, 'B')"
            ],
            "metadata": {
                "azdata_cell_guid": "60cb7d90-37ae-4216-a3ac-0c0c1cfd9c8c"
            },
            "outputs": [],
            "execution_count": 7
        },
        {
            "cell_type": "markdown",
            "source": [
                "## Paso 2: Orden de las columnas##\n",
                "Por claridad se recomienda siempre poner los nombres de columnas, que pueden ir en cualquier orden"
            ],
            "metadata": {
                "azdata_cell_guid": "c7be691c-1443-4355-bcfe-20c5dae04ce6"
            }
        },
        {
            "cell_type": "code",
            "source": [
                "insert into t1 (C, id) values ( 'B', 2)\n",
                "select * from T1"
            ],
            "metadata": {
                "azdata_cell_guid": "c0762fa4-c412-4a8f-8ed5-2771eea3ec73"
            },
            "outputs": [],
            "execution_count": 9
        },
        {
            "cell_type": "markdown",
            "source": [
                "## Paso 3: Valores por DEFAULT ##"
            ],
            "metadata": {
                "azdata_cell_guid": "2823e2a6-74b7-482f-a5f5-42c0ac834201"
            }
        },
        {
            "cell_type": "code",
            "source": [
                "USE northwind\n",
                "\n",
                "INSERT shippers (companyname, phone)\n",
                "VALUES ('Kenya Coffee Co.', DEFAULT)\n",
                "\n",
                "SELECT * from Shippers"
            ],
            "metadata": {
                "azdata_cell_guid": "6117788f-65af-443d-9460-d8361bb7c57c",
                "tags": []
            },
            "outputs": [
                {
                    "output_type": "display_data",
                    "data": {
                        "text/html": "(1 row affected)"
                    },
                    "metadata": {}
                },
                {
                    "output_type": "display_data",
                    "data": {
                        "text/html": "Total execution time: 00:00:00.316"
                    },
                    "metadata": {}
                }
            ],
            "execution_count": 10
        },
        {
            "cell_type": "markdown",
            "source": [
                "## Paso 4: Insertando datos parciales ##\n",
                ""
            ],
            "metadata": {
                "azdata_cell_guid": "382e6dce-ba6d-4ea2-b11b-a4b34da09949"
            }
        },
        {
            "cell_type": "code",
            "source": [
                "USE northwind\n",
                "INSERT shippers (companyname)\n",
                "VALUES ('Fitch & Mather')\n",
                "\n",
                "SELECT * FROM Shippers"
            ],
            "metadata": {
                "azdata_cell_guid": "7a8c1ee0-72ef-42c7-84ed-d78711132aad"
            },
            "outputs": [
                {
                    "output_type": "display_data",
                    "data": {
                        "text/html": "(1 row affected)"
                    },
                    "metadata": {}
                },
                {
                    "output_type": "display_data",
                    "data": {
                        "text/html": "(5 rows affected)"
                    },
                    "metadata": {}
                },
                {
                    "output_type": "display_data",
                    "data": {
                        "text/html": "Total execution time: 00:00:00.008"
                    },
                    "metadata": {}
                },
                {
                    "output_type": "execute_result",
                    "metadata": {},
                    "execution_count": 12,
                    "data": {
                        "application/vnd.dataresource+json": {
                            "schema": {
                                "fields": [
                                    {
                                        "name": "ShipperID"
                                    },
                                    {
                                        "name": "CompanyName"
                                    },
                                    {
                                        "name": "Phone"
                                    }
                                ]
                            },
                            "data": [
                                {
                                    "0": "1",
                                    "1": "Speedy Express",
                                    "2": "(503) 555-9831"
                                },
                                {
                                    "0": "2",
                                    "1": "United Package",
                                    "2": "(503) 555-3199"
                                },
                                {
                                    "0": "3",
                                    "1": "Federal Shipping",
                                    "2": "(503) 555-9931"
                                },
                                {
                                    "0": "4",
                                    "1": "Kenya Coffee Co.",
                                    "2": "NULL"
                                },
                                {
                                    "0": "5",
                                    "1": "Fitch & Mather",
                                    "2": "NULL"
                                }
                            ]
                        },
                        "text/html": "<table><tr><th>ShipperID</th><th>CompanyName</th><th>Phone</th></tr><tr><td>1</td><td>Speedy Express</td><td>(503) 555-9831</td></tr><tr><td>2</td><td>United Package</td><td>(503) 555-3199</td></tr><tr><td>3</td><td>Federal Shipping</td><td>(503) 555-9931</td></tr><tr><td>4</td><td>Kenya Coffee Co.</td><td>NULL</td></tr><tr><td>5</td><td>Fitch &amp; Mather</td><td>NULL</td></tr></table>"
                    }
                }
            ],
            "execution_count": 12
        }
    ]
}