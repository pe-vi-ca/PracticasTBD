{
    "metadata": {
        "kernelspec": {
            "name": "SQL",
            "display_name": "SQL",
            "language": "sql"
        },
        "language_info": {
            "name": "sql",
            "version": ""
        }
    },
    "nbformat_minor": 2,
    "nbformat": 4,
    "cells": [
        {
            "cell_type": "code",
            "source": [
                "use pruebas\n",
                "GO\n",
                "\n",
                "create table T1\n",
                "(\n",
                "    id int, \n",
                "    c  char(1)\n",
                ")\n",
                "\n",
                "\n",
                "create table T2\n",
                "(\n",
                "    num int, \n",
                "    valor  char(1)\n",
                ")\n",
                "\n",
                "INSERT T1 (id, c)\n",
                "    VALUES\n",
                "    (1, 'A'),\n",
                "    (2, 'B'),\n",
                "    (3, 'A'),\n",
                "    (4, 'C');\n",
                "\n",
                "\n",
                "INSERT T2 (num, valor)\n",
                "    VALUES\n",
                "    (1, 'C'),\n",
                "    (3, 'D'),\n",
                "    (3, 'A'),\n",
                "    (5, 'F');\n",
                "\n",
                "\n",
                ""
            ],
            "metadata": {
                "azdata_cell_guid": "16efa61a-f02b-405d-967b-0016717f973c",
                "tags": [
                    "hide_input"
                ]
            },
            "outputs": [],
            "execution_count": null
        },
        {
            "cell_type": "markdown",
            "source": [
                "# Operadores de Conjuntos #\n",
                "## 1. UNION ##\n",
                "Obtener el conjunto de todas las filas de T1 y unirlas al conjunto de las filas de T2\n",
                ""
            ],
            "metadata": {
                "azdata_cell_guid": "0bb375c7-0546-40ad-bb83-87885eca525b"
            }
        },
        {
            "cell_type": "code",
            "source": [
                "\n",
                "\n",
                ""
            ],
            "metadata": {
                "azdata_cell_guid": "ca385ec1-2030-40d0-9897-d47fe87d27b6"
            },
            "outputs": [],
            "execution_count": null
        },
        {
            "cell_type": "markdown",
            "source": [
                "### Opción ALL ###\n",
                "\n",
                "¿Cual es el efecto de la opcion ALL en la UNION? Realice la misma consulta pero utilice UNION ALL"
            ],
            "metadata": {
                "azdata_cell_guid": "ae52d2c9-8dc6-497e-9622-d9207336ef2c"
            }
        },
        {
            "cell_type": "code",
            "source": [
                ""
            ],
            "metadata": {
                "azdata_cell_guid": "4b51610a-5924-4fd1-b68d-2fcc9f3c308f"
            },
            "outputs": [],
            "execution_count": null
        },
        {
            "cell_type": "markdown",
            "source": [
                "**Respuesta**:"
            ],
            "metadata": {
                "azdata_cell_guid": "a384b335-d31f-4bc7-bca4-e0bf2fc545d3"
            }
        },
        {
            "cell_type": "markdown",
            "source": [
                "### Tuplas como elementos###\n",
                "Realice la misma consulta pero ahora recupere solo las columnas numericas de ambas tablas ¿ Que sucede y por qué ?"
            ],
            "metadata": {
                "azdata_cell_guid": "9b2a5437-79d0-4236-a6aa-5e0301ffa1e8"
            }
        },
        {
            "cell_type": "code",
            "source": [
                ""
            ],
            "metadata": {
                "azdata_cell_guid": "24c4d813-e107-448f-a27a-a16f272b9154"
            },
            "outputs": [],
            "execution_count": null
        },
        {
            "cell_type": "markdown",
            "source": [
                "**Respuesta**:"
            ],
            "metadata": {
                "azdata_cell_guid": "baf4075d-202c-45d1-bc64-2e0aaceb0c72"
            }
        },
        {
            "cell_type": "markdown",
            "source": [
                "## 2. INTERSECT ##\n",
                "Obtenga la intersección de ambas tablas "
            ],
            "metadata": {
                "azdata_cell_guid": "7ae5dec3-1321-4a16-9884-67dd43d8b158"
            }
        },
        {
            "cell_type": "code",
            "source": [
                ""
            ],
            "metadata": {
                "azdata_cell_guid": "0146610c-134a-4f1b-8891-6418e30325f9"
            },
            "outputs": [],
            "execution_count": null
        },
        {
            "cell_type": "markdown",
            "source": [
                "## 3. EXCEPT ##\n",
                "### 3.1 ###\n",
                "Obtenga la diferencia entre T1 y T2 "
            ],
            "metadata": {
                "azdata_cell_guid": "8899d8ed-0817-45f3-9c65-2ccb42d98fcf"
            }
        },
        {
            "cell_type": "code",
            "source": [
                ""
            ],
            "metadata": {
                "azdata_cell_guid": "20576e4b-e47e-4913-9f3a-dfbb307f1172"
            },
            "outputs": [],
            "execution_count": null
        },
        {
            "cell_type": "markdown",
            "source": [
                "### 3.2### \n",
                "Obtenga los numeros que están en T1 pero no en T2"
            ],
            "metadata": {
                "azdata_cell_guid": "c7eb187a-21e4-4e8c-8dd4-d647a20faae0"
            }
        },
        {
            "cell_type": "code",
            "source": [
                ""
            ],
            "metadata": {
                "azdata_cell_guid": "df4c7ae3-bc15-4606-873f-d5fd3c652c4b"
            },
            "outputs": [],
            "execution_count": null
        }
    ]
}