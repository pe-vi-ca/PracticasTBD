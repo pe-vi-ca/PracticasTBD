{
    "metadata": {
        "kernelspec": {
            "name": "SQL",
            "display_name": "SQL",
            "language": "sql"
        },
        "language_info": {
            "name": "sql",
            "version": ""
        }
    },
    "nbformat_minor": 2,
    "nbformat": 4,
    "cells": [
        {
            "cell_type": "markdown",
            "source": [
                "# Consultas básicas #\n",
                "Para estas prácticas usaremos la base de datos Northwind, cuyo script de creación puede encontrar en la carpeta de prácticas.\n",
                ""
            ],
            "metadata": {
                "azdata_cell_guid": "337bc138-e31f-4c3a-bedc-befb06fa7353"
            }
        },
        {
            "cell_type": "code",
            "source": [
                "USE Northwind"
            ],
            "metadata": {
                "azdata_cell_guid": "668f6d25-15e9-471f-837d-ab45cba9688e"
            },
            "outputs": [],
            "execution_count": 1
        },
        {
            "cell_type": "markdown",
            "source": [
                "\n",
                "## Paso 1: Select ##\n",
                "La forma mas sencilla de la sentencia `SELECT` es cuando recupera todas las columnas de todas las filas de una tabla"
            ],
            "metadata": {
                "azdata_cell_guid": "2065ec36-dc44-4b19-97c8-a0fc658c8b9e"
            }
        },
        {
            "cell_type": "code",
            "source": [
                "SELECT * from employees"
            ],
            "metadata": {
                "azdata_cell_guid": "dd138886-d977-4e11-9e2a-741563847c21"
            },
            "outputs": [],
            "execution_count": 2
        },
        {
            "cell_type": "markdown",
            "source": [
                "## Paso 2: Filtros ##\n",
                "Podemos recuperar un subconjunto de filas que cumplan con una condición dada, por ejemplo los que viven en *Londres*"
            ],
            "metadata": {
                "azdata_cell_guid": "2256f881-4f0f-4376-801d-52b36ef579b7"
            }
        },
        {
            "cell_type": "code",
            "source": [
                "SELECT * \n",
                "    FROM "
            ],
            "metadata": {
                "azdata_cell_guid": "66e2408b-1159-4093-9a8c-5fce30786aa6"
            },
            "outputs": [],
            "execution_count": 5
        },
        {
            "cell_type": "markdown",
            "source": [
                "## Paso3: Especificando columnas ##\n",
                "Podemos realizar una proyección supliendo la lista de columnas que queremos recuperar, por ejemplo si nos interesa solo el nombre e ID de los empleados"
            ],
            "metadata": {
                "azdata_cell_guid": "fe9b07aa-9e12-4c45-b12c-26eae9509769"
            }
        },
        {
            "cell_type": "code",
            "source": [
                "SELECT EmployeeID, LastName, FirstName \n",
                "    from Employees"
            ],
            "metadata": {
                "azdata_cell_guid": "3390e9f6-5ba5-4daa-831a-b7ba74d5becb"
            },
            "outputs": [],
            "execution_count": 3
        },
        {
            "cell_type": "markdown",
            "source": [
                "## Paso 4##\n",
                "O combinar una proyección y un filtro. Obtenga los nombre y fecha de nacimiento de los empleados de *'Seattle'*"
            ],
            "metadata": {
                "azdata_cell_guid": "296ed8d1-c34c-4251-9386-0bca3ef832e2"
            }
        },
        {
            "cell_type": "code",
            "source": [
                "SELECT \n",
                "    "
            ],
            "metadata": {
                "azdata_cell_guid": "ab13231d-7c13-43bb-98cf-b9ea1aacffc6"
            },
            "outputs": [],
            "execution_count": 0
        },
        {
            "cell_type": "markdown",
            "source": [
                "## Paso 5\n",
                "En la cláusula `WHERE` ponemos una expresión lógica, si evalúa a `TRUE` la fila se obtiene, si a `FALSE` no se obtiene. Obtenga los empleados de *'Seattle'* y *'London'*"
            ],
            "metadata": {
                "azdata_cell_guid": "d255613b-a3f1-4d86-9c1f-f1cee30a4585"
            }
        },
        {
            "cell_type": "code",
            "source": [
                "SELECT EmployeeID, LastName, FirstName, City \n",
                "    FROM Employees\n",
                "    WHERE --Condición    "
            ],
            "metadata": {
                "azdata_cell_guid": "34ef32c5-14c6-49f9-995c-25eac106bb2b"
            },
            "outputs": [],
            "execution_count": 0
        },
        {
            "cell_type": "markdown",
            "source": [
                "## Paso 6: Cálculos en el SELECT ##\n",
                "En la lista de columnas se pueden incluir expresiones y llamadas a función. Por ejemplo calcule la edad de los empleados usando `BirthDate` y las funciones `DateDiff()` y `GETDATE()`"
            ],
            "metadata": {
                "azdata_cell_guid": "b1f307ff-8ad0-43a7-9028-e4add3432ba5"
            }
        },
        {
            "cell_type": "code",
            "source": [
                "SELECT -- Columnas\n",
                "    FROM Employees"
            ],
            "metadata": {
                "azdata_cell_guid": "91e0e5f7-420b-4391-899f-9075a822aa39"
            },
            "outputs": [],
            "execution_count": 8
        },
        {
            "cell_type": "markdown",
            "source": [
                "## Paso 7: Alias ##\n",
                "A las columnas podemos ponerles un alias. En la consulta anterior, la columna de la edad no tiene nombre, asígnele el nombre *Edad*\n",
                "```\n",
                "SELECT column_name AS alias_name\n",
                "FROM table_name;\n",
                "```"
            ],
            "metadata": {
                "azdata_cell_guid": "610806e8-b4f6-49de-8661-a269f1f0cca0"
            }
        },
        {
            "cell_type": "code",
            "source": [
                "SELECT "
            ],
            "metadata": {
                "azdata_cell_guid": "8a61f635-e6a0-4368-8b98-c8e452c45995"
            },
            "outputs": [],
            "execution_count": 0
        },
        {
            "cell_type": "markdown",
            "source": [
                "## Paso 8: DISTINCT ##\n",
                "En el siguiente código usaremos `DISTINCT` para obtener los diferentes titulos de los empleados"
            ],
            "metadata": {
                "azdata_cell_guid": "999aaf70-7823-4190-9a5f-874d00f472fa"
            }
        },
        {
            "cell_type": "code",
            "source": [
                "SELECT DISTINCT"
            ],
            "metadata": {
                "azdata_cell_guid": "b46d5046-8de4-4152-bfdc-c91eb1195178"
            },
            "outputs": [],
            "execution_count": 0
        },
        {
            "cell_type": "markdown",
            "source": [
                "## Paso 9: Ordenación ##\n",
                "Podemos ordenar las filas segun los valores de una de las columnas. \n",
                "```\n",
                "[ ORDER BY order_expression [ ASC | DESC ] ]\n",
                "\n",
                "```\n",
                "Recupere los datos de los empleados ordenados por nombre en forma descendente\n",
                ""
            ],
            "metadata": {
                "azdata_cell_guid": "3536dc42-32ff-400b-bfdc-112c123329fa"
            }
        },
        {
            "cell_type": "code",
            "source": [
                "SELECT \n",
                "    ORDER BY "
            ],
            "metadata": {
                "azdata_cell_guid": "6d95d516-ccbb-4a12-b7b4-cc6ce5a818c6"
            },
            "outputs": [],
            "execution_count": 0
        },
        {
            "cell_type": "markdown",
            "source": [
                "Obtenga el nombre, apellido y ciudad de los empleados de Reino Unido menores de 60 años"
            ],
            "metadata": {
                "azdata_cell_guid": "63222853-151e-4043-9f72-f32ec19715bd"
            }
        },
        {
            "cell_type": "code",
            "source": [
                "SELECT\n",
                ""
            ],
            "metadata": {
                "azdata_cell_guid": "85f233fa-493a-45e8-a5a0-0209fff9a3c5"
            },
            "outputs": [],
            "execution_count": 0
        }
    ]
}