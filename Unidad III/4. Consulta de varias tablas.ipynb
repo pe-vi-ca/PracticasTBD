{
    "metadata": {
        "kernelspec": {
            "name": "SQL",
            "display_name": "SQL",
            "language": "sql"
        },
        "language_info": {
            "name": "sql",
            "version": ""
        }
    },
    "nbformat_minor": 2,
    "nbformat": 4,
    "cells": [
        {
            "cell_type": "markdown",
            "source": [
                "# Reunión de tablas #\n",
                "\n",
                "SELECT específica columnas de múltiples tablas <BR>\n",
                "JOIN especifica que tablas participan en la consulta <BR>\n",
                "ON especifica la condición de la consulta<BR>\n",
                "<p>Para producir un resultado de una tabla usa las llaves primarias y foráneas como parte de la condición\n",
                ""
            ],
            "metadata": {
                "azdata_cell_guid": "5ad1701b-c7f5-497b-b9a2-8de98ef7408c"
            }
        },
        {
            "cell_type": "code",
            "source": [
                "use master\n",
                "\n",
                "IF EXISTS  \n",
                "    ( \n",
                "        SELECT name FROM master.dbo.sysdatabases  \n",
                "        WHERE name = 'Pruebas' \n",
                "    ) \n",
                "    DROP DATABASE Pruebas \n",
                "GO \n",
                "    \n",
                "CREATE DATABASE Pruebas \n",
                "GO \n",
                "use Pruebas"
            ],
            "metadata": {
                "azdata_cell_guid": "28c19c5b-2fde-4e92-9963-9d1e296380be",
                "tags": []
            },
            "outputs": [],
            "execution_count": 12
        },
        {
            "cell_type": "code",
            "source": [
                "USE PRUEBAS\n",
                "CREATE TABLE Departamentos\n",
                "(\n",
                "    idDepartamento INT NOT NULL PRIMARY KEY,\n",
                "    NombreDepto NVARCHAR (30)\n",
                ")\n",
                "\n",
                "CREATE TABLE Empleados\n",
                "(\n",
                "    idEmpleado INT PRIMARY KEY NOT NULL,\n",
                "    NombreEmp NVARCHAR(30), \n",
                "    idDepartamento INT --FOREIGN KEY REFERENCES Departamentos(idDepartamento)\n",
                ")\n",
                "\n",
                "\n",
                ""
            ],
            "metadata": {
                "azdata_cell_guid": "0ee558e1-16e1-4899-bcbb-1ddbd7b5df84",
                "tags": []
            },
            "outputs": [],
            "execution_count": 13
        },
        {
            "cell_type": "code",
            "source": [
                "USE PRUEBAS\n",
                "insert into Departamentos\n",
                "    (idDepartamento, NombreDepto)\n",
                "    VALUES \n",
                "    (101, 'Ventas'),\n",
                "    (102, 'Mercadotecnia'),\n",
                "    (103, 'Producción'),\n",
                "    (104, 'Sistemas')\n",
                "\n",
                "insert into Empleados\n",
                "    (idEmpleado, NombreEmp, idDepartamento)\n",
                "    VALUES \n",
                "    (301, 'Rodolfo', 101),\n",
                "    (302, 'Federico', 102),\n",
                "    (303, 'Enrique', null),\n",
                "    (304, 'Manuel', 105)\n",
                "\n",
                ""
            ],
            "metadata": {
                "azdata_cell_guid": "30d74f8b-319d-41dd-9a25-5c53f20b6a5b",
                "tags": []
            },
            "outputs": [],
            "execution_count": 14
        },
        {
            "cell_type": "markdown",
            "source": [
                "Los diferentes tipos de `JOIN` están basados en el producto cartesiano de las tablas que reune, se puede expresar de dos formas"
            ],
            "metadata": {
                "azdata_cell_guid": "847c6619-ed0e-4b4e-af4c-665ba4f7e0fa"
            }
        },
        {
            "cell_type": "code",
            "source": [
                "USE PRUEBAS\n",
                "SELECT * from Empleados, Departamentos\n",
                ""
            ],
            "metadata": {
                "azdata_cell_guid": "4c4effab-fa26-4966-993c-80346cfb5c9a"
            },
            "outputs": [],
            "execution_count": 15
        },
        {
            "cell_type": "code",
            "source": [
                "USE PRUEBAS\n",
                "SELECT * FROM Empleados\n",
                "    CROSS JOIN Departamentos\n",
                ""
            ],
            "metadata": {
                "azdata_cell_guid": "be2134d1-f7f7-49ac-95bd-a85c90d07ad2"
            },
            "outputs": [],
            "execution_count": 11
        },
        {
            "cell_type": "markdown",
            "source": [
                "## INNER JOIN\n",
                "\n",
                "Recupera las filas de las tablas participantes donde coincidan los valores de las columnas "
            ],
            "metadata": {
                "azdata_cell_guid": "16849c13-539d-4789-ba0a-54cdbfbcc8ab"
            }
        },
        {
            "cell_type": "code",
            "source": [
                "USE PRUEBAS\n",
                "SELECT * FROM --tabla 1\n",
                "    JOIN --tabla 2\n",
                "    ON  --condición de reunión"
            ],
            "metadata": {
                "azdata_cell_guid": "676c888d-3a1d-45a8-95ac-8132e72a9725"
            },
            "outputs": [],
            "execution_count": 16
        },
        {
            "cell_type": "markdown",
            "source": [
                "# LEFT JOIN #\n",
                "\n",
                "Recupera las filas de las tablas que tengan coincidencia mas las filas de la primera que no tengan coincidencia"
            ],
            "metadata": {
                "azdata_cell_guid": "aa61b5d2-c19e-4e6d-b047-254af3c4cb98"
            }
        },
        {
            "cell_type": "code",
            "source": [
                "USE PRUEBAS\n",
                "SELECT * FROM --tabla 1\n",
                "   -- reunion de la tabla 2\n",
                "    ON  --condición de reunión"
            ],
            "metadata": {
                "azdata_cell_guid": "9b1f822b-4411-4e80-843b-fd370a465e6f"
            },
            "outputs": [],
            "execution_count": 0
        },
        {
            "cell_type": "markdown",
            "source": [
                "# RIGHT JOIN #\n",
                "\n",
                "Recupera las filas de las tablas que tengan coincidencia mas las filas de la segunda que no tengan coincidencia"
            ],
            "metadata": {
                "azdata_cell_guid": "cc5020bd-5683-4e9b-b7c4-2331e0c12deb"
            }
        },
        {
            "cell_type": "code",
            "source": [
                "USE PRUEBAS\n",
                "SELECT * FROM   --tabla 1\n",
                "    -- reunion de la tabla 2\n",
                "    ON d.idDepartamento = e.idDepartamento --condición de reunión"
            ],
            "metadata": {
                "azdata_cell_guid": "0049f309-5867-4114-ac99-0e046506235c"
            },
            "outputs": [],
            "execution_count": 20
        },
        {
            "cell_type": "markdown",
            "source": [
                "# FULL OUTER JOIN #\n",
                "\n",
                "Recupera las filas de las tablas participantes aun cuando no tengan coincidencia"
            ],
            "metadata": {
                "azdata_cell_guid": "9649eb8e-9df2-4093-a5a7-4a9a97c6e9b0"
            }
        },
        {
            "cell_type": "code",
            "source": [
                "USE PRUEBAS\n",
                "SELECT * FROM   --tabla 1\n",
                "    -- reunion de la tabla 2\n",
                "    ON d.idDepartamento = e.idDepartamento --condición de reunión"
            ],
            "metadata": {
                "azdata_cell_guid": "9dd7a5b4-f4a7-4987-8269-ca220d620f04"
            },
            "outputs": [],
            "execution_count": 0
        },
        {
            "cell_type": "markdown",
            "source": [
                "## Paso 1 #\n",
                "En Northwind, recupere el nombre, precio y nombre de la categoría de los productos"
            ],
            "metadata": {
                "azdata_cell_guid": "99a5ffa2-aae5-45d0-80b6-4e1f2bf3061d"
            }
        },
        {
            "cell_type": "code",
            "source": [
                "USE northwind\n",
                "\n",
                "SELECT"
            ],
            "metadata": {
                "azdata_cell_guid": "43b694ea-d481-48e8-8d1c-950cce0ddadb"
            },
            "outputs": [],
            "execution_count": 0
        },
        {
            "cell_type": "markdown",
            "source": [
                "## Paso 2: Reunión de mas de 2 tablas #\n",
                "En Northwind, recupere el nombre, precio, nombre de la categoría y nombre del proveedor de los productos\n",
                "\n",
                "\n",
                ""
            ],
            "metadata": {
                "azdata_cell_guid": "31357c00-597f-4547-b364-2ea41d4f4794"
            }
        },
        {
            "cell_type": "code",
            "source": [
                "SELECT\n",
                "    JOIN\n",
                "    JOIN\n",
                ""
            ],
            "metadata": {
                "azdata_cell_guid": "0a187aba-328d-4df3-bf25-73ac8df4c921"
            },
            "outputs": [],
            "execution_count": 0
        },
        {
            "cell_type": "markdown",
            "source": [
                "## Paso 3: Agregando complejidad\n",
                "\n",
                "Recupere los productos del mar que es necesario resurtir\n",
                ""
            ],
            "metadata": {
                "azdata_cell_guid": "77adef35-7b03-4ad3-b1f9-583915f014f5"
            }
        }
    ]
}