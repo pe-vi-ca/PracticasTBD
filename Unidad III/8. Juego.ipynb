{
    "metadata": {
        "kernelspec": {
            "name": "SQL",
            "display_name": "SQL",
            "language": "sql"
        },
        "language_info": {
            "name": "sql",
            "version": ""
        }
    },
    "nbformat_minor": 2,
    "nbformat": 4,
    "cells": [
        {
            "cell_type": "markdown",
            "source": [
                "# Jugando #\n",
                "\n",
                "Determine en donde pasará San Valentín los empleados de Northwind"
            ],
            "metadata": {
                "azdata_cell_guid": "fc61e9e7-8135-44f9-adcf-41b047f69d03"
            }
        },
        {
            "cell_type": "code",
            "source": [
                "use northwind\n",
                "DECLARE @mesactividad \n",
                "    as TABLE ( \n",
                "        mes int, \n",
                "        actividad varchar(40) \n",
                "        )\n",
                "\n",
                "DECLARE @inicialpersona \n",
                "    as TABLE ( \n",
                "        inicial CHAR(1), \n",
                "        persona varchar(40) \n",
                "        )\n",
                "\n",
                "INSERT INTO  @mesactividad\n",
                "    VALUES\n",
                "        (1, 'Jugando maincra con'),\n",
                "        (2, 'Explorando el Amazonas con'),\n",
                "        (3, 'Bañando los perros de'),\n",
                "        (4, 'Perseguido por'),\n",
                "        (5, 'En la cárcel por matar a'),\n",
                "        (6, 'Pintando la casa de'),\n",
                "        (7, 'Contando chistes con'),\n",
                "        (8, 'Enseñando Java a'),\n",
                "        (9, 'En un yate con'),\n",
                "        (10, 'En el hospital cuidando a'), \n",
                "        (11, 'Comiendo con'),\n",
                "        (12, 'Platicando con')\n",
                "\n",
                "insert into @inicialpersona\n",
                "    VALUES\n",
                "        ('a', 'CR7'),\n",
                "        ('b', 'Shakira'),\n",
                "        ('c', 'AuronPlay'),\n",
                "        ('d', 'Scarlett Johanson'),\n",
                "        ('e', 'Jessica Jones'),\n",
                "        ('f', 'Lagertha'),\n",
                "        ('g', 'Yuya'), \n",
                "        ('h', 'Sheldon Cooper'),\n",
                "        ('i', 'Michael Jordan'),\n",
                "        ('j', 'Carlos Slim'),\n",
                "        ('k', 'Donald Trump'),\n",
                "        ('l', 'Neil deGrasse Tyson'),\n",
                "        ('m', 'Indiana Jones'),\n",
                "        ('n', 'Javier Santaolalla'), \n",
                "        ('o', 'Henry Cavill'), \n",
                "        ('p', 'Beyoncé'),\n",
                "        ('q', 'Vinton Cerf'),\n",
                "        ('r', 'Robert Downey Jr.'),\n",
                "        ('s', 'Hulk'),\n",
                "        ('t', 'la india Yuriria'),\n",
                "        ('u', 'Bárbara de Regil'),\n",
                "        ('v', 'Tokio'),\n",
                "        ('w', 'Barney Stinson'),\n",
                "        ('x', 'Chumel Torres'),\n",
                "        ('y', 'Tulio Treviño'),\n",
                "        ('z', 'Goku')"
            ],
            "metadata": {
                "azdata_cell_guid": "d6325ad3-1fe2-4dbf-8787-638b438d52c1"
            },
            "outputs": [],
            "execution_count": null
        }
    ]
}