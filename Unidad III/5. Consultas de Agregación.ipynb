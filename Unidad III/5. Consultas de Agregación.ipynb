{
    "metadata": {
        "kernelspec": {
            "name": "SQL",
            "display_name": "SQL",
            "language": "sql"
        },
        "language_info": {
            "name": "sql",
            "version": ""
        }
    },
    "nbformat_minor": 2,
    "nbformat": 4,
    "cells": [
        {
            "cell_type": "markdown",
            "source": [
                "# Consultas de agregación #\n",
                "\n",
                "\n",
                "Las consutas de agregación trabajan con grupos de filas sobre las cuales se aplica una función de agregación\n",
                "\n",
                "<table>\n",
                "<tr><td>AVG(expr)<td> Devuelve el promedio de todos los valores, o sólo de los valores DISTINCT. Se ignoran los nulos.\n",
                "<tr><td>COUNT(expr)<td> Devuelve el numero de valores no nulos en la expresión. Se ignoran los valores nulos. Puede utilizarse en columnas numéricas y no numéricas.  Puede utilizarse con DISTINCT.\n",
                "<tr><td>COUNT(*)<td> Se cuentan todas las filas incluso las que tienen valores nulos. No puede utilizarse con DISTINCT.\n",
                "<tr><td>MAX(expr)<td> Devuelve el valor máximo de la expresión. Puede utilizarse con columnas numéricas, de tipo carácter y datetime.\n",
                "<tr><td>MIN(expr)<td> Devuelve el valor mínimo en la expresión. MIN, puede utilizarse con columnas numéricas, de tipo carácter y datetime, pero no con columnas tipo bit. Con columnas tipo carácter, busca el valor mínimo en la secuencia. MIN, ignora los nulos.\n",
                "<tr><td>SUM(expr)<td> Devuelve la suma de todos los valores,  o solo de los valores DISTINCT. Se ignoran los nulos y sólo puede utilizarse en columnas numéricas."
            ],
            "metadata": {
                "azdata_cell_guid": "310942b4-4043-4e0a-b769-7e9d8c90466c"
            }
        },
        {
            "cell_type": "code",
            "source": [
                "use northwind"
            ],
            "metadata": {
                "azdata_cell_guid": "70ca2c7a-0a86-41d3-88a8-c7e1a1f9ae13"
            },
            "outputs": [],
            "execution_count": 2
        },
        {
            "cell_type": "markdown",
            "source": [
                "## Paso 1: Promedio ## \n",
                "Para obtener el promedio de un grupo utilizamos la función  `AVG()`. \n",
                "<p>Recupere el precio promedio de los productos"
            ],
            "metadata": {
                "azdata_cell_guid": "148dbb09-51ec-42be-9876-353f7f1a08fb"
            }
        },
        {
            "cell_type": "code",
            "source": [
                "select  AVG(UnitPrice) as PrecioPromedio\n",
                "    from products"
            ],
            "metadata": {
                "azdata_cell_guid": "716d58e0-5cf4-4467-8143-62574504f4b8"
            },
            "outputs": [],
            "execution_count": 13
        },
        {
            "cell_type": "markdown",
            "source": [
                "Si queremos el precio promedio de los productos dentro de cada categoría usamos la cláusula `GROUP BY`"
            ],
            "metadata": {
                "azdata_cell_guid": "b4d78075-55b5-4c3a-99f1-97b953351a52"
            }
        },
        {
            "cell_type": "code",
            "source": [
                "select  CategoryID, AVG(UnitPrice) as PrecioPromedio\n",
                "    from products\n",
                "    GROUP by CategoryID"
            ],
            "metadata": {
                "azdata_cell_guid": "48797621-9a0a-47bb-a7af-009c60526d06"
            },
            "outputs": [],
            "execution_count": 15
        },
        {
            "cell_type": "markdown",
            "source": [
                "## Paso 2: Contando ##\n",
                "Determine cuántos productos se manejan por categoría"
            ],
            "metadata": {
                "azdata_cell_guid": "f8b71dec-e900-4851-8f1a-c5b05940e48a"
            }
        },
        {
            "cell_type": "code",
            "source": [
                "select  \n",
                "    from \n",
                "    GROUP by "
            ],
            "metadata": {
                "azdata_cell_guid": "b3a1a532-46a9-40f6-8f1e-76c17fdf7f0b"
            },
            "outputs": [],
            "execution_count": 16
        },
        {
            "cell_type": "markdown",
            "source": [
                "## Paso 3: Mayor ##\n",
                "\n",
                "Obtenga el precio mas bajo y mas alto que se maneja"
            ],
            "metadata": {
                "azdata_cell_guid": "0d6fe265-ad6e-4853-a08a-990fab96c19b"
            }
        },
        {
            "cell_type": "code",
            "source": [
                ""
            ],
            "metadata": {
                "azdata_cell_guid": "869ab667-8770-4356-9e20-6293e288d6c5"
            },
            "outputs": [],
            "execution_count": null
        },
        {
            "cell_type": "markdown",
            "source": [
                "## Paso 4: Suma ##\n",
                "Obtenga el importe total de fletes del día 10 de junio de 1997"
            ],
            "metadata": {
                "azdata_cell_guid": "239c532a-d96e-496e-ac10-336cb58c5b0b"
            }
        },
        {
            "cell_type": "code",
            "source": [
                "SELECT Freight\n",
                "    FROM orders"
            ],
            "metadata": {
                "azdata_cell_guid": "bbc68def-cd71-4931-af3a-2afd08fa2c93"
            },
            "outputs": [],
            "execution_count": 21
        },
        {
            "cell_type": "markdown",
            "source": [
                "## Paso 5 ##\n",
                "Obtenga el total de ventas del día 10 de junio de 1997"
            ],
            "metadata": {
                "azdata_cell_guid": "c82afeb0-acd7-48bb-ac6c-336a0d01c1e8"
            }
        },
        {
            "cell_type": "code",
            "source": [
                "SELECT *  \n",
                "    FROM [Order Details]"
            ],
            "metadata": {
                "azdata_cell_guid": "b96170c0-fe81-4b77-94e9-e0afadbf2af9"
            },
            "outputs": [],
            "execution_count": 22
        },
        {
            "cell_type": "markdown",
            "source": [
                "## Paso 6 ##\n",
                "Obtenga el total de ventas por producto del mes de junio de 1997"
            ],
            "metadata": {
                "azdata_cell_guid": "5c7b2ca0-ac57-4bd2-ac63-5e346479b5d8"
            }
        },
        {
            "cell_type": "code",
            "source": [
                "SELECT * from Products\n",
                "    JOIN [Order Details]"
            ],
            "metadata": {
                "azdata_cell_guid": "e8c3b6ef-8c95-47cb-b534-5dba3283bf94"
            },
            "outputs": [],
            "execution_count": 23
        },
        {
            "cell_type": "markdown",
            "source": [
                "## Paso 7 ##\n",
                "Obtenga el importe de ventas por categoría por mes del año 1997\n",
                ""
            ],
            "metadata": {
                "azdata_cell_guid": "cd8fffec-437e-4ac0-9eee-5ab6f27ecd46"
            }
        },
        {
            "cell_type": "code",
            "source": [
                ""
            ],
            "metadata": {
                "azdata_cell_guid": "3d44dd92-486f-4757-abb8-4893b8ce1a56"
            },
            "outputs": [],
            "execution_count": null
        },
        {
            "cell_type": "markdown",
            "source": [
                "## Paso 8##\n",
                "Obtenga el producto mas caro\n",
                ""
            ],
            "metadata": {
                "azdata_cell_guid": "e0f4cdb1-9ccb-4feb-ab87-a9876d9cf9de"
            }
        },
        {
            "cell_type": "code",
            "source": [
                ""
            ],
            "metadata": {
                "azdata_cell_guid": "971d7532-e07a-4c7d-8aed-ad27be2fbc72"
            },
            "outputs": [],
            "execution_count": null
        }
    ]
}