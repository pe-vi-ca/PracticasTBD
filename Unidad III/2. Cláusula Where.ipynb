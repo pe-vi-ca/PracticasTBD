{
    "metadata": {
        "kernelspec": {
            "name": "SQL",
            "display_name": "SQL",
            "language": "sql"
        },
        "language_info": {
            "name": "sql",
            "version": ""
        }
    },
    "nbformat_minor": 2,
    "nbformat": 4,
    "cells": [
        {
            "cell_type": "markdown",
            "source": [
                "# Condiciones de búsqueda#\n",
                "\n",
                "En la cláusula `WHERE` se pueden incluir diferentes tipos de condiciones de búsqueda\n",
                "<table>\n",
                "<tr><td>Operadores de comparación <td>>, <, =, >=, <=, <>\n",
                "<tr><td>Rangos<td>\tBetween, Not Between\n",
                "<tr><td>Listas<td> \t\t\t\tIn, Not in\n",
                "<tr><td>Comparación de strings<td>           Like, Not Like\n",
                "<tr><td>Valores desconocidos<td>\t\t Is Null, Is not Null\n",
                "<tr><td>Negación\t\t\t<td>  NOT\n",
                "<tr><td>Lógicos\t\t\t<td>And, Or\n",
                "</table>\n",
                ""
            ],
            "metadata": {
                "azdata_cell_guid": "bb32722c-9b89-49e7-9911-1e678ae62387"
            }
        },
        {
            "cell_type": "markdown",
            "source": [
                "## Paso 0\n",
                "\n",
                "Esta práctica requiere la Base de Datos Northwind"
            ],
            "metadata": {
                "azdata_cell_guid": "a626f292-4356-4e58-9a70-084922c30c67"
            }
        },
        {
            "cell_type": "code",
            "source": [
                "USE [Northwind]\n",
                ""
            ],
            "metadata": {
                "azdata_cell_guid": "cb20512d-cdeb-4a5d-a94c-0c6feb45971f"
            },
            "outputs": [],
            "execution_count": 0
        },
        {
            "cell_type": "markdown",
            "source": [
                "## Paso 1: Operadores de comparación ##\n",
                "\n",
                "Obtenga los productos cuyo precio unitario (`UnitPrice`) sea menor o igual a 30"
            ],
            "metadata": {
                "azdata_cell_guid": "0cf0457e-e0a8-4d3e-baa5-f89ca0cb36c8"
            }
        },
        {
            "cell_type": "code",
            "source": [
                "SELECT\n",
                "    WHERE"
            ],
            "metadata": {
                "azdata_cell_guid": "d8b6607e-7c75-4218-98aa-1cb7d489f379"
            },
            "outputs": [],
            "execution_count": 0
        },
        {
            "cell_type": "markdown",
            "source": [
                "## Paso2: Rangos ##\n",
                "Obtenga los productos cuyo precio unitario esté entre 20 y 40"
            ],
            "metadata": {
                "azdata_cell_guid": "eac74360-2d6c-40df-bf1d-154e51d0d052"
            }
        },
        {
            "cell_type": "code",
            "source": [
                "SELECT\n",
                "    BETWEEN"
            ],
            "metadata": {
                "azdata_cell_guid": "951edd8d-b8e9-4a02-8f5b-215be9317d97"
            },
            "outputs": [],
            "execution_count": 0
        },
        {
            "cell_type": "markdown",
            "source": [
                "## Paso 3: Listas ##\n",
                "\n",
                "Recupere los Productos que pertenezcan a las categorías 2, 3, 6 y 8 (`CategoryID`)"
            ],
            "metadata": {
                "azdata_cell_guid": "e0aeedd0-7fa1-45b5-a58b-6d21fd1be83a"
            }
        },
        {
            "cell_type": "code",
            "source": [
                "SELECT \n",
                "    WHERE IN"
            ],
            "metadata": {
                "azdata_cell_guid": "bbd1a222-532d-4265-b757-a6bb3932843f"
            },
            "outputs": [],
            "execution_count": 0
        },
        {
            "cell_type": "markdown",
            "source": [
                "## Paso 4 : Valores desconocidos##\n",
                "\n",
                "Obtenge los clientes (`Customers`) cuya región (`Region`) es desconocida\n",
                ""
            ],
            "metadata": {
                "azdata_cell_guid": "3c21cbbf-b27c-4af3-9437-44ff5c1c65bf"
            }
        },
        {
            "cell_type": "code",
            "source": [
                "SELECT \n",
                "    IS NULL"
            ],
            "metadata": {
                "azdata_cell_guid": "86af2117-86fa-48d9-ad10-6e759a1666f8"
            },
            "outputs": [],
            "execution_count": 0
        },
        {
            "cell_type": "markdown",
            "source": [
                "## Paso 5 : Negación ##\n",
                "\n",
                "Obtenga los clientes que no sean de Argentina (`Country`)"
            ],
            "metadata": {
                "azdata_cell_guid": "edaebe47-457b-49ec-93a5-997fe23867d3"
            }
        },
        {
            "cell_type": "code",
            "source": [
                "SELECT\n",
                "    NOT "
            ],
            "metadata": {
                "azdata_cell_guid": "83cbabcc-1b30-4c98-8547-60abc5f78bb1"
            },
            "outputs": [],
            "execution_count": 0
        },
        {
            "cell_type": "markdown",
            "source": [
                "## Paso 6: Lógicos ##\n",
                "\n",
                "Obtenga el nombre y precio de los productos lácteos y cárnicos (*Categoría 4 y 6 respectivamente*) cuyo existencia en almacén (`UnitsInStock`) esté por debajo de su nivel de reorden ( `ReorderLevel`). Omitir los productos descontinuados. Muestre las colunas adicionales que demuestreen que la información es correcta.\n",
                ""
            ],
            "metadata": {
                "azdata_cell_guid": "90df0a88-88d8-4c99-9994-c61d930c0b24"
            }
        },
        {
            "cell_type": "code",
            "source": [
                "SELECT\n",
                "    WHERE "
            ],
            "metadata": {
                "azdata_cell_guid": "12e49fc8-f1ee-4722-b517-da5edb43c401"
            },
            "outputs": [],
            "execution_count": 0
        }
    ]
}