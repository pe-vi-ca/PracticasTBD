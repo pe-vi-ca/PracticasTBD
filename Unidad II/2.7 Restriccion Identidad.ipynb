{
    "metadata": {
        "kernelspec": {
            "name": "SQL",
            "display_name": "SQL",
            "language": "sql"
        },
        "language_info": {
            "name": "sql",
            "version": ""
        }
    },
    "nbformat_minor": 2,
    "nbformat": 4,
    "cells": [
        {
            "cell_type": "markdown",
            "source": [
                "# Identidad\n",
                "\n",
                "Llaves primarias\n",
                "`PRIMARY KEY`\n",
                "\n",
                "Llaves sustitutas\n",
                "`IDENTITY (1,1)`\n",
                "\n",
                ""
            ],
            "metadata": {
                "azdata_cell_guid": "891f8c81-8103-47c3-9858-62efc6d34122"
            }
        }
    ]
}