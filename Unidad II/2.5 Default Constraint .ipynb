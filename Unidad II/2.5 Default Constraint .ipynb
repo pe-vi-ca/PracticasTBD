{
    "metadata": {
        "kernelspec": {
            "name": "SQL",
            "display_name": "SQL",
            "language": "sql"
        },
        "language_info": {
            "name": "sql",
            "version": ""
        }
    },
    "nbformat_minor": 2,
    "nbformat": 4,
    "cells": [
        {
            "cell_type": "markdown",
            "source": [
                "# Esta parecemas DEMO que práctica \n",
                "Para esta páctica usaremos la base de datos `Pruebas`"
            ],
            "metadata": {
                "azdata_cell_guid": "0bbb6f4c-a0de-451f-99bb-a6dba825280a"
            }
        },
        {
            "cell_type": "code",
            "source": [
                "--Ejecute este bloque(colapsado) para usarla \n",
                "\n",
                "IF NOT EXISTS \n",
                "   (\n",
                "     SELECT name FROM master.dbo.sysdatabases \n",
                "     WHERE name = 'Pruebas'\n",
                "    )\n",
                "CREATE DATABASE Pruebas\n",
                "\n",
                "GO\n",
                "use Pruebas\n",
                ""
            ],
            "metadata": {
                "azdata_cell_guid": "ea1744c2-0a6a-4bac-8079-a76e6f68c063",
                "tags": [
                    "hide_input"
                ]
            },
            "outputs": [],
            "execution_count": 1
        },
        {
            "cell_type": "markdown",
            "source": [
                "# Restricciones ( Constraints )\n",
                "\n",
                "Una restriccion puede ser a nivel tabla"
            ],
            "metadata": {
                "azdata_cell_guid": "49c68d50-6c8e-46d4-ad08-8c4969fa5382"
            }
        },
        {
            "cell_type": "code",
            "source": [
                "\n",
                "CREATE TABLE RCT1\n",
                "(\n",
                "    NombreCompleto VARCHAR(30) not NULL, \n",
                "    Departamento varchar(30),\n",
                "    Salario NUMERIC (10,4)\n",
                ")\n",
                ""
            ],
            "metadata": {
                "azdata_cell_guid": "d1bce3a8-3feb-4b2a-9ad5-fcb717e13308",
                "tags": []
            },
            "outputs": [],
            "execution_count": 0
        },
        {
            "cell_type": "markdown",
            "source": [
                "O a nivel tabla"
            ],
            "metadata": {
                "azdata_cell_guid": "b0788bcd-6912-4ffd-9936-2001126d4714"
            }
        },
        {
            "cell_type": "code",
            "source": [
                "CREATE TABLE TT1\n",
                "(\n",
                "    Nombre VARCHAR(30) not NULL, \n",
                "    Apellido VARCHAR(30),\n",
                "    Departamento varchar(30),\n",
                "    Salario NUMERIC (10,4)\n",
                "    PRIMARY KEY (Empleado, Nombre)\n",
                ")\n",
                "\n",
                "\n",
                ""
            ],
            "metadata": {
                "azdata_cell_guid": "d3504b17-e192-4d28-a552-52af9efba9ef"
            },
            "outputs": [],
            "execution_count": 0
        },
        {
            "cell_type": "markdown",
            "source": [
                "# Constraint Default \n",
                "A una columna se le puede asignar un valor, en caso de que el usuario no provea uno. Por ejemplo, en una empresa de origen mexicano, en el atributo `País` el valor por defecto bien podría ser `México`.\n",
                "\n",
                "\n",
                ""
            ],
            "metadata": {
                "azdata_cell_guid": "36e9cce1-4939-4ce9-9f30-140e7803a6a2"
            }
        },
        {
            "cell_type": "code",
            "source": [
                "CREATE TABLE Empleados\n",
                "(\n",
                "    IdEmpleado int PRIMARY KEY,\n",
                "    Nombre NVARCHAR(30) not NULL, \n",
                "    Apellido NVARCHAR(30),\n",
                "    Pais NVARCHAR(50) DEFAULT 'México'\n",
                ")"
            ],
            "metadata": {
                "azdata_cell_guid": "c09bfa06-1b4f-492d-ae83-686ce157724e"
            },
            "outputs": [],
            "execution_count": 28
        },
        {
            "cell_type": "code",
            "source": [
                "INSERT INTO Empleados (idEmpleado, Nombre, Apellido) \n",
                "    VALUES (1, 'Juan', 'Pérez')\n",
                "INSERT INTO Empleados (idEmpleado, Nombre, Apellido, Pais) \n",
                "    VALUES (2, 'Francisco', 'Hernández', 'Estados Unidos')\n",
                ""
            ],
            "metadata": {
                "azdata_cell_guid": "6d3ef0ea-a7c9-42ae-a372-c21121872ffe"
            },
            "outputs": [],
            "execution_count": 29
        },
        {
            "cell_type": "code",
            "source": [
                "SELECT * from Empleados\n",
                ""
            ],
            "metadata": {
                "azdata_cell_guid": "2f85667c-3e47-4237-91a5-10c6749c7f44"
            },
            "outputs": [],
            "execution_count": 30
        },
        {
            "cell_type": "markdown",
            "source": [
                "# Default cuando la tabla ya tiene datos"
            ],
            "metadata": {
                "azdata_cell_guid": "a50c0cbe-0bf8-4dae-9eb2-97dfcbe31474"
            }
        },
        {
            "cell_type": "code",
            "source": [
                "ALTER TABLE Empleados\n",
                "    Add Departamento nvarchar(30) DEFAULT 'Ventas'\n",
                "\n",
                "SELECT * from Empleados\n",
                ""
            ],
            "metadata": {
                "azdata_cell_guid": "b2cffd1b-bf40-42b2-b1c5-a4bdfb294d61"
            },
            "outputs": [],
            "execution_count": 31
        },
        {
            "cell_type": "markdown",
            "source": [
                "# WITH VALUES\n",
                "\n",
                ""
            ],
            "metadata": {
                "azdata_cell_guid": "c1391513-a0bb-40bf-8e0c-4b23054e6a25"
            }
        },
        {
            "cell_type": "code",
            "source": [
                "ALTER TABLE Empleados\n",
                "    add Salario NUMERIC(10,4) DEFAULT 900.200 WITH VALUES\n",
                "\n",
                "SELECT * from Empleados    "
            ],
            "metadata": {
                "azdata_cell_guid": "6c47ebde-c501-450e-8eaf-ae69b2dea95b"
            },
            "outputs": [],
            "execution_count": 32
        }
    ]
}