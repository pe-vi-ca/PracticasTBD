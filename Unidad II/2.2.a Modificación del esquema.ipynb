{
    "metadata": {
        "kernelspec": {
            "name": "SQL",
            "display_name": "SQL",
            "language": "sql"
        },
        "language_info": {
            "name": "sql",
            "version": ""
        }
    },
    "nbformat_minor": 2,
    "nbformat": 4,
    "cells": [
        {
            "cell_type": "markdown",
            "source": [
                "# Modificación del esquema de la Base de Datos #\n",
                "\n",
                "Las modificaciones al esquema de la Base de Datos se hacen con la sentencia ALTER _tipo_de_objeto_ _modificacion_.\n",
                "Para agregar o eliminar una columna a una tabla usaremos ALTER TABLE, ya que el objeto es la tabla. Para modificar el código de un trigger sería ALTER TRIGGER.\n",
                "\n",
                ""
            ],
            "metadata": {
                "azdata_cell_guid": "5a2b8b07-daca-437a-9bee-ac7407a900ca"
            }
        }
    ]
}