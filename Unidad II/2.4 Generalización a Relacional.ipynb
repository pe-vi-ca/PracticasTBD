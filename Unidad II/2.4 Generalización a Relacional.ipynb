{
    "metadata": {
        "kernelspec": {
            "name": "SQL",
            "display_name": "SQL",
            "language": "sql"
        },
        "language_info": {
            "name": "sql",
            "version": ""
        }
    },
    "nbformat_minor": 2,
    "nbformat": 4,
    "cells": [
        {
            "cell_type": "markdown",
            "source": [
                "# ER to Relational\n",
                "## Generalización/Especialización\n",
                "Sea un sistema de Control escolar donde tenemos las entidades Alumnos (Nombre, Apellidos, Telefono, Control, Preparatoria de Origen ), Docentes (Nombre, Apellidos, Titulo, Departamento Academico, Telefono), Administrativos (Nombre, Apellidos, Telefono, Puesto).\n",
                "\n",
                "Se ha decidido hacer una generalización Persona ( PersonaID, Nombre, Apellidos, Telefono), quedando las entidades anteriores como Alumnos (Control, Preparatoria de Origen ), Docentes (Titulo, Departamento Academico), Administrativos (Puesto).\n",
                "\n",
                "<img src=generalizacion.png/>\n",
                "Para crear las tablas en nuestro modelo aplicamos el paso 8 de nuestro procedimiento.\n",
                "Veamos como queda con las diferentes opciones\n",
                "\n",
                "[Prueba](generalizacion.png)"
            ],
            "metadata": {
                "azdata_cell_guid": "cb4095c5-1232-4194-9070-894b3d93d55e"
            }
        },
        {
            "cell_type": "markdown",
            "source": [
                "# 8a: Relaciones para la clase padre y para las subclases\n",
                "\n",
                "Creamos la tabla para la clase padre `Persona8a`:"
            ],
            "metadata": {
                "azdata_cell_guid": "f42708ed-7255-45e8-a586-595342879859"
            }
        },
        {
            "cell_type": "code",
            "source": [
                "CREATE TABLE persona \n",
                "(\n",
                "    PersonaID INT PRIMARY KEY, \n",
                "    Nombre NVARCHAR(60), \n",
                "    Apellidos NVARCHAR(60),\n",
                "    Telefono CHAR(15)\n",
                ")"
            ],
            "metadata": {
                "azdata_cell_guid": "da57ab31-a666-420d-b3a2-ef7e9d1545c0"
            },
            "outputs": [],
            "execution_count": 0
        },
        {
            "cell_type": "markdown",
            "source": [
                "Se crea una tabla para cada subclase, donde la llave primaria de la clase padre será llave foránea y primaria"
            ],
            "metadata": {
                "azdata_cell_guid": "a60e4428-4d16-4c0c-a717-5054fca473e8"
            }
        },
        {
            "cell_type": "code",
            "source": [
                "CREATE TABLE Alumnos8a\n",
                "(\n",
                "    PersonaID INT FOREIGN KEY REFERENCES Persona(Persona) PRIMARY KEY,\n",
                "    Control CHAR(8),\n",
                "    PreparatoriaOrigen VARCHAR(30)\n",
                ")"
            ],
            "metadata": {
                "azdata_cell_guid": "5682f399-255e-448d-9421-52b27629e648"
            },
            "outputs": [],
            "execution_count": 0
        },
        {
            "cell_type": "markdown",
            "source": [
                "Cuando se quiera añadir una instancia de Alumno, primero se tiene que añadir sus datos a la tabla `Persona8a` y luego a la tabla `Alumnos8a` usando el mismo `PersonaID`. Por ejemplo para *Juan Álvarez Tzul*, con numero de control *20171203* y teléfono *(667)363-2455* :"
            ],
            "metadata": {
                "azdata_cell_guid": "82ac078b-10fb-4e36-a9fe-676ac18802ff"
            }
        },
        {
            "cell_type": "code",
            "source": [
                "INSERT INTO Persona8a (PersonaID, Nombre, Apellidos, Telefono) \n",
                "    values ( 45, 'Juan', 'Álvarez Tzul', '(667)363-2455')\n",
                "INSERT INTO Alumnos8a (PersonaID, Control, PreparatoriaOrigen)\n",
                "    values ( 45, '20171203', 'Cobaes 23')"
            ],
            "metadata": {
                "azdata_cell_guid": "eb8e37fa-27c8-4e2d-87db-70bbf01defae"
            },
            "outputs": [],
            "execution_count": 0
        },
        {
            "cell_type": "markdown",
            "source": [
                "Agregue las tablas para las subclases restantes"
            ],
            "metadata": {
                "azdata_cell_guid": "6575d432-8779-4b89-87e6-404592859e3a"
            }
        },
        {
            "cell_type": "code",
            "source": [
                "CREATE TABLE Docentes8a\n",
                "(\n",
                "\n",
                ")"
            ],
            "metadata": {
                "azdata_cell_guid": "df8f2fcf-ab2e-4e2c-8fc8-5dc3fb19b30f"
            },
            "outputs": [],
            "execution_count": 0
        },
        {
            "cell_type": "code",
            "source": [
                "CREATE TABLE Administrativos8a\n",
                "(\n",
                "\n",
                ")"
            ],
            "metadata": {
                "azdata_cell_guid": "0398b62e-c9f7-441b-8a1f-e717ae9396b9",
                "tags": []
            },
            "outputs": [],
            "execution_count": 0
        },
        {
            "cell_type": "markdown",
            "source": [
                "Agregue datos a las tablas: \n",
                "El I.B.Q. Fernando Pérez Jiménez, con teléfono 6671123456, adscrito a Bioquímica \n",
                "El señor Juan Izábal Mejía, con teléfono 6672345123, encargado del laboratorio de Operaciones Unitarias"
            ],
            "metadata": {
                "azdata_cell_guid": "9b3f37d4-8347-489e-a6af-133ab72ebe57"
            }
        },
        {
            "cell_type": "code",
            "source": [
                "INSERT\n",
                ""
            ],
            "metadata": {
                "azdata_cell_guid": "b018ab00-4ee5-4961-b7b5-7041c0b588cd"
            },
            "outputs": [],
            "execution_count": 0
        },
        {
            "cell_type": "markdown",
            "source": [
                "¿Que sucede si nos cambian las restricciones y un Docente puede también ser alumno (de posgrado)?  "
            ],
            "metadata": {
                "azdata_cell_guid": "818a4b76-5920-44cc-9ed0-5f5f671f38f1"
            }
        },
        {
            "cell_type": "code",
            "source": [
                "INSERT \n",
                "\n",
                ""
            ],
            "metadata": {
                "azdata_cell_guid": "46bd5a7d-c992-417a-852b-9d61b9ea5ddb"
            },
            "outputs": [],
            "execution_count": 0
        },
        {
            "cell_type": "markdown",
            "source": [
                "Y ¿si quiero agregar personas ajenas a la institución sin modificar mi esquema? "
            ],
            "metadata": {
                "azdata_cell_guid": "d4f58d8c-1a90-4cb2-a0ec-12dd9a50c3e8"
            }
        },
        {
            "cell_type": "code",
            "source": [
                "INSERT"
            ],
            "metadata": {
                "azdata_cell_guid": "aa6b9087-5b1a-4faf-bc5e-fe14e5f6bb02"
            },
            "outputs": [],
            "execution_count": 0
        },
        {
            "cell_type": "markdown",
            "source": [
                "# 8b. Multiples relaciones, solo las subclases\n",
                "\n",
                "Las subclases son totales y disjuntas\n",
                ""
            ],
            "metadata": {
                "azdata_cell_guid": "39ad8cbb-2e73-4159-b923-c379fd2b1713"
            }
        },
        {
            "cell_type": "code",
            "source": [
                "CREATE TABLE Alumnos8b\n",
                "(\n",
                "    PersonaID INT PRIMARY KEY,\n",
                "    Nombre NVARCHAR(60), \n",
                "    Apellidos NVARCHAR(60),\n",
                "    Telefono CHAR(15),\n",
                "    Control CHAR(8),\n",
                "    PreparatoriaOrigen VARCHAR(30)\n",
                ")\n",
                "\n",
                "--Agregue las tablas para Docentes y Administrativos y datos en las 3 tablas"
            ],
            "metadata": {
                "azdata_cell_guid": "ab9a0c24-1098-4dd0-8abc-f1f5f5328113"
            },
            "outputs": [],
            "execution_count": 0
        },
        {
            "cell_type": "markdown",
            "source": [
                "¿Que sucede si nos cambian las restricciones y un Docente puede también ser alumno (de posgrado)? "
            ],
            "metadata": {
                "azdata_cell_guid": "eb25c6b5-f119-44bd-914f-0ee3b39a3a6a"
            }
        },
        {
            "cell_type": "code",
            "source": [
                "INSERT "
            ],
            "metadata": {
                "azdata_cell_guid": "e0d76c05-2dba-4cc7-9b56-012d760c5234"
            },
            "outputs": [],
            "execution_count": 0
        },
        {
            "cell_type": "markdown",
            "source": [
                "# 8c. Una sola relación con un atributo `TIPO`\n",
                "\n",
                "Para cuando las subclases son disjuntas\n",
                ""
            ],
            "metadata": {
                "azdata_cell_guid": "a50cced0-35c5-4d04-bfa0-721204044021"
            }
        },
        {
            "cell_type": "code",
            "source": [
                "-- Crear las tablas "
            ],
            "metadata": {
                "azdata_cell_guid": "eaedbea6-1357-4212-940e-6fe41a0c4ccb"
            },
            "outputs": [],
            "execution_count": 0
        },
        {
            "cell_type": "markdown",
            "source": [
                "# 8d. Una sola relación con varios atributos `TIPO`\n",
                "\n",
                "Para cuando las subclases se traslapan. Puede funcionar también si son disjuntas."
            ],
            "metadata": {
                "azdata_cell_guid": "979c2d57-0ca2-453c-84da-cb943e8ab846"
            }
        },
        {
            "cell_type": "code",
            "source": [
                "--Haz magia"
            ],
            "metadata": {
                "azdata_cell_guid": "0db3f699-bad5-4e6e-92d9-8ffb017a753e"
            },
            "outputs": [],
            "execution_count": 0
        }
    ]
}