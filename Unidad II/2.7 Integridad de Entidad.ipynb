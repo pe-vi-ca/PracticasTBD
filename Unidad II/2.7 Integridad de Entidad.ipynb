{
    "metadata": {
        "kernelspec": {
            "name": "SQL",
            "display_name": "SQL",
            "language": "sql"
        },
        "language_info": {
            "name": "sql",
            "version": ""
        }
    },
    "nbformat_minor": 2,
    "nbformat": 4,
    "cells": [
        {
            "cell_type": "markdown",
            "source": [
                "# Identidad\n",
                "\n",
                "Sea la entidad Empleado con atributos Nombre, Apellido, RFC, CURP, NSS y Nacimiento. Como RFC y CURP tienen valores únicos, son nuestras llaves candidatas. Elijamos una de ellas como llave primaria, digamos RFC."
            ],
            "metadata": {
                "azdata_cell_guid": "891f8c81-8103-47c3-9858-62efc6d34122"
            }
        },
        {
            "cell_type": "code",
            "source": [
                "--Para dejar en blanco la base de datos PRUEBA ejecute este bloque\n",
                "--Ejecute este bloque(colapsado) para usarla \n",
                "\n",
                "IF EXISTS \n",
                "   (\n",
                "     SELECT name FROM master.dbo.sysdatabases \n",
                "     WHERE name = 'Pruebas'\n",
                "    )\n",
                "    DROP DATABASE Pruebas\n",
                "GO\n",
                "\n",
                "CREATE DATABASE Pruebas\n",
                "GO\n",
                "\n",
                "use Pruebas"
            ],
            "metadata": {
                "azdata_cell_guid": "ff62390c-b6aa-4b7e-b708-03e6d45b483b",
                "tags": [
                    "hide_input"
                ]
            },
            "outputs": [],
            "execution_count": 3
        },
        {
            "cell_type": "markdown",
            "source": [
                "## Paso1 ##\n",
                "Cree la tabla `Empleados` sin llave primaria"
            ],
            "metadata": {
                "azdata_cell_guid": "159843f5-d578-4c34-83bc-4bdeba47fe28"
            }
        },
        {
            "cell_type": "code",
            "source": [
                "CREATE TABLE Empleados\n",
                "(\n",
                "    Nombre nvarchar(30), \n",
                "    Apellido nvarchar(30), \n",
                "    RFC CHAR(13), \n",
                "    CURP CHAR(18), \n",
                "    NSS CHAR(20),\n",
                "    Nacimiento DATE\n",
                ")"
            ],
            "metadata": {
                "azdata_cell_guid": "9ac7e8a8-87f1-4e8e-ae32-4eddbafd39d9"
            },
            "outputs": [],
            "execution_count": 4
        },
        {
            "cell_type": "markdown",
            "source": [
                "¿Que sucede si intento agregar dos veces el mismo empleado? (Ejecute dos veces o mas el siguiente bloque)\n",
                "\n",
                "**Respuesta:**\n",
                ""
            ],
            "metadata": {
                "azdata_cell_guid": "5bbf8a79-1465-49ca-8d99-512dd67b2fc7"
            }
        },
        {
            "cell_type": "code",
            "source": [
                "--Agregamos un empleado\n",
                "INSERT into Empleados (Nombre, Apellido, RFC, CURP, NSS, Nacimiento)\n",
                "    VALUES ('Juan', 'Salinas García', 'SAGJ680701HYB', 'SAGJ6807010000000', '1234567', '19680701' )\n",
                "SELECT * from Empleados"
            ],
            "metadata": {
                "azdata_cell_guid": "c517e533-2965-42f7-88c0-7d190c559a06"
            },
            "outputs": [],
            "execution_count": 16
        },
        {
            "cell_type": "markdown",
            "source": [
                "**¡ATENCION!**\n",
                "\n",
                "Elimine todas las filas de la tabla antes de proseguir"
            ],
            "metadata": {
                "azdata_cell_guid": "b7b6b962-4e07-4957-9dcd-a3c1f3cb2556"
            }
        },
        {
            "cell_type": "code",
            "source": [
                "DELETE"
            ],
            "metadata": {
                "azdata_cell_guid": "bf414ed1-dd8d-4c39-a340-c448d0c05d40"
            },
            "outputs": [],
            "execution_count": 0
        },
        {
            "cell_type": "markdown",
            "source": [
                "## Paso 2 ##\n",
                "Ahora agreguemos una restricción de llave primaria con la columna `RFC`. Recuerde que una llave primaria no debe permitir nulos, así que antes debemos añadir también la restriccion `NOT NULL` a la columna."
            ],
            "metadata": {
                "azdata_cell_guid": "9943fe45-ce2b-40ff-8ff2-c1fa80ee70f6"
            }
        },
        {
            "cell_type": "code",
            "source": [
                "ALTER TABLE Empleados\n",
                "    ALTER COLUMN\n",
                "\n",
                "ALTER \n",
                "    ADD CONSTRAINT\n",
                "\n",
                "\n",
                ""
            ],
            "metadata": {
                "azdata_cell_guid": "906d2241-3f5e-48ce-ba12-e87d6f974ec9"
            },
            "outputs": [],
            "execution_count": 13
        },
        {
            "cell_type": "markdown",
            "source": [
                "Intente agregar ahora dos veces al mismo empleado ¿Que sucede?\n",
                "**Respuesta:**\n",
                ""
            ],
            "metadata": {
                "azdata_cell_guid": "9990a1de-fafe-46be-8066-2f0666f617a5"
            }
        },
        {
            "cell_type": "code",
            "source": [
                "INSERT into Empleados (Nombre, Apellido, RFC, CURP, NSS, Nacimiento)\n",
                "    VALUES ('Juan', 'Salinas García', 'SAGJ680701HYB', 'SAGJ6807010000000', '1234567', '19680701' )\n",
                "SELECT * from Empleados"
            ],
            "metadata": {
                "azdata_cell_guid": "8385591e-cb6e-4669-a33b-bc9f88105745"
            },
            "outputs": [],
            "execution_count": 17
        },
        {
            "cell_type": "markdown",
            "source": [
                "## Paso 3##\n",
                "Para mostrar los indices de una tabla usamos `sp_helpindex [ @objname = ] 'name' `"
            ],
            "metadata": {
                "azdata_cell_guid": "c1e5c7f2-9ece-4081-9c23-43c9f2e88eb0"
            }
        },
        {
            "cell_type": "code",
            "source": [
                "--Muestre los indices de la tabla Empleados\n",
                ""
            ],
            "metadata": {
                "azdata_cell_guid": "2ee6bac2-5332-4b6f-a776-317d150c968b"
            },
            "outputs": [],
            "execution_count": 14
        },
        {
            "cell_type": "markdown",
            "source": [
                "## Paso 4 #\n",
                "\n",
                "Supongamos que cambiamos de idea y queremos que la llave primaria sea `CURP`. Para eso tenemos que eliminar la propiedad `PRIMARY KEY` de `RFC` con `ALTER TABLE ... DROP CONSTRAINT ` y luego ponerla en `CURP`"
            ],
            "metadata": {
                "azdata_cell_guid": "e4016f0b-0e70-41a6-8e23-c07e625e14c0"
            }
        },
        {
            "cell_type": "code",
            "source": [
                "ALTER"
            ],
            "metadata": {
                "azdata_cell_guid": "8128d21f-10ab-41d4-8844-0c49cb188ebf"
            },
            "outputs": [],
            "execution_count": 0
        },
        {
            "cell_type": "markdown",
            "source": [
                "¿Se puede agregar ahora un empleado con CURP unico pero RFC repetido?"
            ],
            "metadata": {
                "azdata_cell_guid": "9151cd2c-da6d-4c01-9a45-9a3482339adc"
            }
        },
        {
            "cell_type": "code",
            "source": [
                "INSERT "
            ],
            "metadata": {
                "azdata_cell_guid": "d8efa1b6-8466-4fb7-ae87-21522b840398"
            },
            "outputs": [],
            "execution_count": 0
        },
        {
            "cell_type": "markdown",
            "source": [
                "¿Como lo podemos evitar? \n",
                "\n",
                "**Respuesta**\n",
                ""
            ],
            "metadata": {
                "azdata_cell_guid": "e35069ac-03d6-41c9-800a-12d2f6c121be"
            }
        },
        {
            "cell_type": "markdown",
            "source": [
                "# Unique #\n",
                "\n",
                "Agreguemos entonces una restricción `UNIQUE` a la tabla `Empleados` sobre la columna `RFC`\n",
                ""
            ],
            "metadata": {
                "azdata_cell_guid": "1ac8a2b2-5670-413c-97f8-70cb4a40d8ed"
            }
        },
        {
            "cell_type": "code",
            "source": [
                "ALTER TABLE \n",
                "    ADD CONSTRAINT \n",
                "\n",
                ""
            ],
            "metadata": {
                "azdata_cell_guid": "9fe58480-fe19-4db1-9bfa-fb664daf2a02"
            },
            "outputs": [],
            "execution_count": 0
        },
        {
            "cell_type": "markdown",
            "source": [
                "Intente ahora agregar un RFC repetido"
            ],
            "metadata": {
                "azdata_cell_guid": "e19bbca2-1b21-4748-99d0-81b7b33f9da6"
            }
        },
        {
            "cell_type": "code",
            "source": [
                ""
            ],
            "metadata": {
                "azdata_cell_guid": "0bc75978-728f-463c-9851-d4dc23d2440a"
            },
            "outputs": [],
            "execution_count": 0
        },
        {
            "cell_type": "markdown",
            "source": [
                "Revise los indices de la tabla Empleados"
            ],
            "metadata": {
                "azdata_cell_guid": "fa7f856d-1f85-4292-90ba-1008edc83d91"
            }
        }
    ]
}