{
    "metadata": {
        "kernelspec": {
            "name": "SQL",
            "display_name": "SQL",
            "language": "sql"
        },
        "language_info": {
            "name": "sql",
            "version": ""
        }
    },
    "nbformat_minor": 2,
    "nbformat": 4,
    "cells": [
        {
            "cell_type": "markdown",
            "source": [
                "# Enteros (INT) \n",
                "Cree una base de datos ` prueba` y dentro de ella una tabla ` T1` con una columna ` numero` de tipo entero"
            ],
            "metadata": {
                "azdata_cell_guid": "37dfc46f-32f3-404d-9f53-5ac016af0f60"
            }
        },
        {
            "cell_type": "code",
            "source": [
                "CREATE ??? ???\n",
                "\n",
                "GO\n",
                "\n",
                "--??? seleccionar la base de datos recién creada\n",
                "\n",
                "--Crear la tabla especificada\n",
                ""
            ],
            "metadata": {
                "azdata_cell_guid": "ef77dbd0-17e9-4577-8c03-77adf2484589"
            },
            "outputs": [],
            "execution_count": 1
        },
        {
            "cell_type": "markdown",
            "source": [
                "Inserte filas en la tabla ` T1` con los valores enteros 100, 200, 150"
            ],
            "metadata": {
                "azdata_cell_guid": "cbf0eca6-7da8-4cf6-9d3f-995b96295b2c"
            }
        },
        {
            "cell_type": "code",
            "source": [
                "--insert into ????\n",
                "select * from T1\n",
                ""
            ],
            "metadata": {
                "azdata_cell_guid": "ea736744-5505-44d4-b2ef-f7cc308b937a"
            },
            "outputs": [],
            "execution_count": 2
        },
        {
            "cell_type": "markdown",
            "source": [
                "Ahora inserte una fila con los valores reales 99.99, 99.05"
            ],
            "metadata": {
                "azdata_cell_guid": "854a196b-4567-4130-bf7c-8329d077a98a"
            }
        },
        {
            "cell_type": "code",
            "source": [
                "insert into ????\n",
                "select * from T1"
            ],
            "metadata": {
                "azdata_cell_guid": "0cc04efd-aab2-416b-bb1f-cc9e662ed78c"
            },
            "outputs": [],
            "execution_count": 3
        },
        {
            "cell_type": "markdown",
            "source": [
                "**¿Que sucedió?:**"
            ],
            "metadata": {
                "azdata_cell_guid": "14936f44-376e-477c-90d6-7af0ece79e55"
            }
        },
        {
            "cell_type": "markdown",
            "source": [
                "# Cadenas (VARCHAR)\n",
                "\n",
                "Cree ahora una tabla `T2` con una columna `cadena` de tipo `CHAR(10)` y otra `cadenavar` de tipo `VARCHAR(10)`. Luego inserte los valores 'Corto', 'Cadena larga' para ambas columnas."
            ],
            "metadata": {
                "azdata_cell_guid": "91332819-0bc2-44fb-823f-93fbdb5b6276"
            }
        },
        {
            "cell_type": "code",
            "source": [
                "--CREATE ?? ??\n",
                "\n",
                "INSERT into T2 values ('Corto', 'Corto'), ('Cadena larga', 'Cadena larga' )\n",
                ""
            ],
            "metadata": {
                "azdata_cell_guid": "fe65190e-4990-4f2e-8c10-f59bdee7fb36"
            },
            "outputs": [
                {
                    "output_type": "display_data",
                    "data": {
                        "text/html": "(2 rows affected)"
                    },
                    "metadata": {}
                },
                {
                    "output_type": "display_data",
                    "data": {
                        "text/html": "Total execution time: 00:00:00.035"
                    },
                    "metadata": {}
                }
            ],
            "execution_count": 2
        },
        {
            "cell_type": "markdown",
            "source": [
                "**¿Que sucedió?**\n",
                "\n",
                "\n",
                "Corrija e intente de nuevo"
            ],
            "metadata": {
                "azdata_cell_guid": "79120ef1-d5d3-492d-a012-63fbd02233d5"
            }
        },
        {
            "cell_type": "markdown",
            "source": [
                "¿Cuanto espacio de almacenamiento usa cada dato?"
            ],
            "metadata": {
                "azdata_cell_guid": "1c4421ea-9394-485d-96dd-6a566b3d53e8"
            }
        },
        {
            "cell_type": "code",
            "source": [
                "SELECT len(cadena) as 'Longitud de cadena', DATALENGTH(cadena) as 'Espacio usado por cadena', \n",
                "       len(cadenavar) as 'Longitud de cadenavar', DATALENGTH(cadenavar) as 'Espacio usado por cadenavar'\n",
                "    from T2"
            ],
            "metadata": {
                "azdata_cell_guid": "9b54cbd0-4faf-4cdd-82a6-608892c4c3e0"
            },
            "outputs": [
                {
                    "output_type": "display_data",
                    "data": {
                        "text/html": "(2 rows affected)"
                    },
                    "metadata": {}
                },
                {
                    "output_type": "display_data",
                    "data": {
                        "text/html": "Total execution time: 00:00:00.002"
                    },
                    "metadata": {}
                },
                {
                    "output_type": "execute_result",
                    "metadata": {},
                    "execution_count": 5,
                    "data": {
                        "application/vnd.dataresource+json": {
                            "schema": {
                                "fields": [
                                    {
                                        "name": "Longitud de cadena"
                                    },
                                    {
                                        "name": "Espacio usado por cadena"
                                    },
                                    {
                                        "name": "Longitud de cadenavar"
                                    },
                                    {
                                        "name": "Espacio usado por cadenavar"
                                    }
                                ]
                            },
                            "data": [
                                {
                                    "0": "5",
                                    "1": "10",
                                    "2": "5",
                                    "3": "5"
                                },
                                {
                                    "0": "10",
                                    "1": "10",
                                    "2": "10",
                                    "3": "10"
                                }
                            ]
                        },
                        "text/html": "<table><tr><th>Longitud de cadena</th><th>Espacio usado por cadena</th><th>Longitud de cadenavar</th><th>Espacio usado por cadenavar</th></tr><tr><td>5</td><td>10</td><td>5</td><td>5</td></tr><tr><td>10</td><td>10</td><td>10</td><td>10</td></tr></table>"
                    }
                }
            ],
            "execution_count": 5
        },
        {
            "cell_type": "markdown",
            "source": [
                "# REAL\n",
                "\n",
                "Usemos ahora el tipo de dato `REAL`. Cree una tabla `T3` con una columna `precio` de tipo `REAL`. Agregue 10 filas con el valor 0.1"
            ],
            "metadata": {
                "azdata_cell_guid": "37a186cc-4885-42ba-a635-73d2bd1d1709"
            }
        },
        {
            "cell_type": "code",
            "source": [
                "-- Crear la tabla\n",
                "\n",
                "select sum(precio) from T3\n",
                ""
            ],
            "metadata": {
                "azdata_cell_guid": "9e8e624d-7126-4349-9220-0d75aed2c93b"
            },
            "outputs": [],
            "execution_count": 7
        },
        {
            "cell_type": "markdown",
            "source": [
                "**¿Que resultado se obtiene si sumamos los valores de la columna precio?:**\n",
                "\n",
                "\n",
                "***\n",
                "**Por que?:** \n",
                "***\n",
                ""
            ],
            "metadata": {
                "azdata_cell_guid": "69158445-3b4a-4f70-92d2-ca88406907b9"
            }
        },
        {
            "cell_type": "markdown",
            "source": [
                "# Moneda (Numeric) #\n",
                "\n",
                "Cree una tabla `T4` con una columna `precio` de tipo `numeric(10,4)`. Agregue 10 filas con el valor 0.1"
            ],
            "metadata": {
                "azdata_cell_guid": "a418172d-4213-4ee3-8565-4d04f7e3f3a1"
            }
        },
        {
            "cell_type": "code",
            "source": [
                "-- Crear la tabla\n",
                "\n",
                "select sum(precio) from T4\n",
                ""
            ],
            "metadata": {
                "azdata_cell_guid": "0c4c14cf-6cc6-442c-8e72-758430ade5b6"
            },
            "outputs": [],
            "execution_count": 0
        },
        {
            "cell_type": "markdown",
            "source": [
                "**¿Que resultado se obtiene ahora si sumamos los valores de la columna precio?:**\n",
                "\n",
                "\n",
                "***\n",
                "**Por que?:** \n",
                "***"
            ],
            "metadata": {
                "azdata_cell_guid": "c9021a17-e9d9-4a06-9c51-ffee5130b556"
            }
        }
    ]
}