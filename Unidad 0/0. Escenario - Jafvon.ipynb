{
    "metadata": {
        "kernelspec": {
            "name": "SQL",
            "display_name": "SQL",
            "language": "sql"
        },
        "language_info": {
            "name": "sql",
            "version": ""
        }
    },
    "nbformat_minor": 2,
    "nbformat": 4,
    "cells": [
        {
            "cell_type": "markdown",
            "source": [
                "# Escenario\n",
                "La empresa Jafvon Inc. es un fabricante de, inicialmente, productos de belleza y del hogar que distribuye a traves de embajadores.\n",
                "Debido al crecimiento reciente es necesario crear una base de datos que permita llevar el control de las ventas, pedidos y embajadores.\n",
                "\n",
                "\n",
                "De los productos nos interesa el nombre, clave, descripicón, precio al público, precio al embajador y costo de producción. Cada producto pertenece al menos a una categoría: Belleza, Limpieza del hogar, Ropa, Niños, Caballero, Dama, Jardinería. Así mismo pertenece a un tipo: Crema limpiadora, Camisa, Fibra.\n",
                "\n",
                "El embajador hace los pedidos con una App que le permite llevar el control de sus clientes. De cada uno guarda el nombre, teléfonos y direcciones. Todos los datos que maneja la App son guardados en la Base de datos de la empresa.\n",
                "\n",
                "La App permite registrar el pedido de un cliente que puede ser uno o mas productos. Cuando el embajador completa un mínimo ( que el decide según sus metas) puede colocar una orden con todos los pedidos pendientes. Los productos de dicha orden le llegarán, entre uno y 10 días después, a su dirección.  \n",
                "\n",
                "Los clientes pueden pagar sus pedidos en 1 o mas abonos. Cada pago del cliente se hace a un pedido específico. Al terminar de pagar un pedido se marca como pagado. No se puede abonar a un pedido si adeuda uno anterior.\n",
                "\n",
                "De la misma forma, el embajador puede pagar sus ordenes de compra en abonos. Cada pago del embajador se hace a una orden específica. Al terminar de pagar una orden se marca como pagada. No se puede abonar a una orden si adeuda una anterior.\n",
                "\n",
                "Otros tipos de pago se están contemplando, pero por lo pronto los pagos son en efectivo. \n",
                "\n",
                "Los productos están disponibles para su venta solo por Campañas, pudiendo estar en una o mas Campañas, no necesariamente consecutivas. Una Campaña dura entre 4 y 6 semanas. Las Campañas no se traslapan.\n",
                "\n",
                "Durante una Campaña puede haber productos en promoción, o sea que tienen un porcentaje de descuento sobre su precio de venta.\n",
                "\n",
                "Para facilitar la logística, el territorio nacional se divide en regiones, cada embajador pertenece a una. Cada región tiene un CEDIS (Centro de distribución). Cada embajador pertenece a una región.\n",
                "\n",
                "\n",
                "\n",
                "\n",
                "\n",
                ""
            ],
            "metadata": {
                "azdata_cell_guid": "71de6f39-eada-44d5-8649-6ce1686fb5b9"
            }
        }
    ]
}