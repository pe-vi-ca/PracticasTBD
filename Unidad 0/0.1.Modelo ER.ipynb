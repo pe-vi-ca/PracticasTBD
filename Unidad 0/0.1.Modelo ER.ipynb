{
    "metadata": {
        "kernelspec": {
            "name": "SQL",
            "display_name": "SQL",
            "language": "sql"
        },
        "language_info": {
            "name": "sql",
            "version": ""
        }
    },
    "nbformat_minor": 2,
    "nbformat": 4,
    "cells": [
        {
            "cell_type": "markdown",
            "source": [
                "Aqui va el modelo E-R"
            ],
            "metadata": {
                "azdata_cell_guid": "c2faf199-999b-4061-ad44-3a612e656406"
            }
        }
    ]
}